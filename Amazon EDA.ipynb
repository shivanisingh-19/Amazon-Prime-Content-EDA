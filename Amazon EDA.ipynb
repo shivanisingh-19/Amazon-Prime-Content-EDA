{
  "nbformat": 4,
  "nbformat_minor": 0,
  "metadata": {
    "colab": {
      "provenance": []
    },
    "kernelspec": {
      "name": "python3",
      "display_name": "Python 3"
    },
    "language_info": {
      "name": "python"
    }
  },
  "cells": [
    {
      "cell_type": "markdown",
      "source": [
        "# **Project Name**    - Amazon Prime TV Shows and Movies"
      ],
      "metadata": {
        "id": "0CtH5S_GjrtL"
      }
    },
    {
      "cell_type": "markdown",
      "source": [
        "##### **Project Type**    - EDA\n",
        "##### **Contribution**    - Individual\n"
      ],
      "metadata": {
        "id": "MTejEANgj8vh"
      }
    },
    {
      "cell_type": "markdown",
      "source": [
        "# **Project Summary -**\n",
        "\n",
        "Ever wondered what kind of shows and movies you can find on Amazon Prime Video? That’s exactly what this project set out to explore! We worked with a dataset packed with useful details—like genres, IMDb ratings, release years, and where these titles are available across the globe. The goal was simple: break down the data to find meaningful insights that could help Amazon, content creators, and others in the streaming industry.\n",
        "\n",
        "To get started, we asked some key questions:\n",
        "\n",
        "What genres are most popular on Prime Video?\n",
        "\n",
        "How is content spread across different countries?\n",
        "\n",
        "How has Prime Video’s library evolved over the years?\n",
        "\n",
        "Which shows and movies are the highest-rated and most loved?\n",
        "\n",
        "As we dove into the data, some fascinating patterns emerged. For example, Drama, Comedy, and Action dominate the platform, and movies outnumber TV shows. But not everything is available everywhere—some countries have a vast selection, while others have fewer choices, which might be a cue for Amazon to expand its offerings in certain regions.\n",
        "\n",
        "Looking at trends over time, we saw that Prime Video’s catalog is steadily growing, with thrillers and documentaries gaining popularity in recent years. And when we checked out IMDb ratings, we pinpointed the top shows that audiences love, giving Amazon valuable insights into what to promote and how to attract more viewers.\n",
        "\n",
        "\n",
        "Why does this matter?\n",
        "It helps Amazon decide which types of content to focus on.\n",
        "It highlights regional gaps in availability, guiding future expansion.\n",
        "It helps content creators understand what genres engage audiences the most.It gives marketers ideas on what to promote to bring in more viewers.\n",
        "\n",
        "\n",
        "Who can benefit from these insights?\n",
        "Amazon’s content and marketing teams\n",
        "Filmmakers and creators\n",
        "Streaming industry analysts and business strategists\n",
        "Data experts in the entertainment sector\n",
        "\n",
        "At its core, this project offers a clear and engaging breakdown of Amazon Prime Video’s content landscape. By understanding viewing trends, availability, and audience preferences, Prime Video can keep growing and delivering more of what people love."
      ],
      "metadata": {
        "id": "dQ4jpddKkJr7"
      }
    },
    {
      "cell_type": "markdown",
      "source": [
        "# **GitHub Link -**"
      ],
      "metadata": {
        "id": "jeXNstD2kbxc"
      }
    },
    {
      "cell_type": "markdown",
      "source": [
        "# **Problem Statement**"
      ],
      "metadata": {
        "id": "UEOKrqCAkcUL"
      }
    },
    {
      "cell_type": "markdown",
      "source": [
        "This dataset was created to analyze all shows available on Amazon Prime Video, allowing us to extract valuable insights such as:\n",
        "\n",
        "1. Content Diversity: What genres and categories dominate the platform?\n",
        "\n",
        "2. Regional Availability: How does content distribution vary across different regions?\n",
        "\n",
        "3. Trends Over Time: How has Amazon Prime’s content library evolved?\n",
        "\n",
        "4. IMDb Ratings & Popularity: What are the highest-rated or most popular shows on the platform?\n"
      ],
      "metadata": {
        "id": "E5Amq5DSkvNw"
      }
    },
    {
      "cell_type": "markdown",
      "source": [
        "#### **Define Your Business Objective?**"
      ],
      "metadata": {
        "id": "Lyu4JdBgkvbC"
      }
    },
    {
      "cell_type": "markdown",
      "source": [
        "1. Know What Kind of Shows Are Most Common: We want to find out which types of shows and movies (like action, drama, comedy, etc.) are most available on Amazon Prime. This can help us decide what kind of content to focus on in the future.\n",
        "\n",
        "2. See How Content is Shared Across Different Countries: We'll look at how shows and movies are spread across different regions. This helps us understand what people in different parts of the world are watching and where we might need to offer more content.\n",
        "\n",
        "3. Understand How the Content Has Changed Over Time: We’ll check how the number of shows on Amazon Prime have changed over the years. This shows us what’s growing, what’s slowing down, and how trends are shifting.\n",
        "\n",
        "4. Spot the Most Loved and Top-Rated Shows: We'll find out which shows are the most popular and have the best ratings. This helps us know what kind of content people enjoy the most, so we can create or promote similar ones.\n",
        "\n"
      ],
      "metadata": {
        "id": "iW1KoAfok78i"
      }
    },
    {
      "cell_type": "markdown",
      "source": [
        "## ***1. Knowing the Data***"
      ],
      "metadata": {
        "id": "eWIoJIe2kpTD"
      }
    },
    {
      "cell_type": "markdown",
      "source": [
        "### Import Libraries\n"
      ],
      "metadata": {
        "id": "MEJVmwX5kyF2"
      }
    },
    {
      "cell_type": "code",
      "execution_count": null,
      "metadata": {
        "id": "KO2V9CQ8aelI"
      },
      "outputs": [],
      "source": [
        "import pandas as pd\n",
        "import matplotlib.pyplot as plt\n",
        "import seaborn as sns"
      ]
    },
    {
      "cell_type": "markdown",
      "source": [
        "### Dataset Loading\n"
      ],
      "metadata": {
        "id": "1bt9mS44k_5H"
      }
    },
    {
      "cell_type": "code",
      "source": [
        "titles = pd. read_csv(\"/content/drive/MyDrive/Colab Notebooks/titles.csv\")\n",
        "credits = pd. read_csv(\"/content/drive/MyDrive/Colab Notebooks/credits.csv\")"
      ],
      "metadata": {
        "id": "ogmMaimYbuuO"
      },
      "execution_count": null,
      "outputs": []
    },
    {
      "cell_type": "markdown",
      "source": [
        "###Merging Datasets"
      ],
      "metadata": {
        "id": "x7fd7v-NrmUy"
      }
    },
    {
      "cell_type": "code",
      "source": [
        "merged_df = pd.merge(titles, credits, on='id', how='left')"
      ],
      "metadata": {
        "id": "L_raetBOrx-t"
      },
      "execution_count": null,
      "outputs": []
    },
    {
      "cell_type": "markdown",
      "source": [
        "### Dataset First View"
      ],
      "metadata": {
        "id": "lWs6DzkclNvV"
      }
    },
    {
      "cell_type": "code",
      "source": [
        "merged_df.head(5)"
      ],
      "metadata": {
        "colab": {
          "base_uri": "https://localhost:8080/",
          "height": 521
        },
        "id": "jSVnJF4mbuqt",
        "outputId": "ceb88d59-1240-48a6-f1b5-a03fef967a02"
      },
      "execution_count": null,
      "outputs": [
        {
          "output_type": "execute_result",
          "data": {
            "text/plain": [
              "        id              title   type  \\\n",
              "0  ts20945  The Three Stooges   SHOW   \n",
              "1  ts20945  The Three Stooges   SHOW   \n",
              "2  ts20945  The Three Stooges   SHOW   \n",
              "3  tm19248        The General  MOVIE   \n",
              "4  tm19248        The General  MOVIE   \n",
              "\n",
              "                                         description  release_year  \\\n",
              "0  The Three Stooges were an American vaudeville ...          1934   \n",
              "1  The Three Stooges were an American vaudeville ...          1934   \n",
              "2  The Three Stooges were an American vaudeville ...          1934   \n",
              "3  During America’s Civil War, Union spies steal ...          1926   \n",
              "4  During America’s Civil War, Union spies steal ...          1926   \n",
              "\n",
              "  age_certification  runtime  \\\n",
              "0             TV-PG       19   \n",
              "1             TV-PG       19   \n",
              "2             TV-PG       19   \n",
              "3               NaN       78   \n",
              "4               NaN       78   \n",
              "\n",
              "                                              genres production_countries  \\\n",
              "0  ['comedy', 'family', 'animation', 'action', 'f...               ['US']   \n",
              "1  ['comedy', 'family', 'animation', 'action', 'f...               ['US']   \n",
              "2  ['comedy', 'family', 'animation', 'action', 'f...               ['US']   \n",
              "3  ['action', 'drama', 'war', 'western', 'comedy'...               ['US']   \n",
              "4  ['action', 'drama', 'war', 'western', 'comedy'...               ['US']   \n",
              "\n",
              "   seasons    imdb_id  imdb_score  imdb_votes  tmdb_popularity  tmdb_score  \\\n",
              "0     26.0  tt0850645         8.6      1092.0           15.424         7.6   \n",
              "1     26.0  tt0850645         8.6      1092.0           15.424         7.6   \n",
              "2     26.0  tt0850645         8.6      1092.0           15.424         7.6   \n",
              "3      NaN  tt0017925         8.2     89766.0            8.647         8.0   \n",
              "4      NaN  tt0017925         8.2     89766.0            8.647         8.0   \n",
              "\n",
              "   person_id           name      character   role  \n",
              "0    59401.0     Joe Besser            Joe  ACTOR  \n",
              "1    31460.0     Moe Howard            Moe  ACTOR  \n",
              "2    31461.0     Larry Fine          Larry  ACTOR  \n",
              "3    21174.0  Buster Keaton    Johnny Gray  ACTOR  \n",
              "4    28713.0    Marion Mack  Annabelle Lee  ACTOR  "
            ],
            "text/html": [
              "\n",
              "  <div id=\"df-65261a92-5134-49a9-894e-47107fbe663b\" class=\"colab-df-container\">\n",
              "    <div>\n",
              "<style scoped>\n",
              "    .dataframe tbody tr th:only-of-type {\n",
              "        vertical-align: middle;\n",
              "    }\n",
              "\n",
              "    .dataframe tbody tr th {\n",
              "        vertical-align: top;\n",
              "    }\n",
              "\n",
              "    .dataframe thead th {\n",
              "        text-align: right;\n",
              "    }\n",
              "</style>\n",
              "<table border=\"1\" class=\"dataframe\">\n",
              "  <thead>\n",
              "    <tr style=\"text-align: right;\">\n",
              "      <th></th>\n",
              "      <th>id</th>\n",
              "      <th>title</th>\n",
              "      <th>type</th>\n",
              "      <th>description</th>\n",
              "      <th>release_year</th>\n",
              "      <th>age_certification</th>\n",
              "      <th>runtime</th>\n",
              "      <th>genres</th>\n",
              "      <th>production_countries</th>\n",
              "      <th>seasons</th>\n",
              "      <th>imdb_id</th>\n",
              "      <th>imdb_score</th>\n",
              "      <th>imdb_votes</th>\n",
              "      <th>tmdb_popularity</th>\n",
              "      <th>tmdb_score</th>\n",
              "      <th>person_id</th>\n",
              "      <th>name</th>\n",
              "      <th>character</th>\n",
              "      <th>role</th>\n",
              "    </tr>\n",
              "  </thead>\n",
              "  <tbody>\n",
              "    <tr>\n",
              "      <th>0</th>\n",
              "      <td>ts20945</td>\n",
              "      <td>The Three Stooges</td>\n",
              "      <td>SHOW</td>\n",
              "      <td>The Three Stooges were an American vaudeville ...</td>\n",
              "      <td>1934</td>\n",
              "      <td>TV-PG</td>\n",
              "      <td>19</td>\n",
              "      <td>['comedy', 'family', 'animation', 'action', 'f...</td>\n",
              "      <td>['US']</td>\n",
              "      <td>26.0</td>\n",
              "      <td>tt0850645</td>\n",
              "      <td>8.6</td>\n",
              "      <td>1092.0</td>\n",
              "      <td>15.424</td>\n",
              "      <td>7.6</td>\n",
              "      <td>59401.0</td>\n",
              "      <td>Joe Besser</td>\n",
              "      <td>Joe</td>\n",
              "      <td>ACTOR</td>\n",
              "    </tr>\n",
              "    <tr>\n",
              "      <th>1</th>\n",
              "      <td>ts20945</td>\n",
              "      <td>The Three Stooges</td>\n",
              "      <td>SHOW</td>\n",
              "      <td>The Three Stooges were an American vaudeville ...</td>\n",
              "      <td>1934</td>\n",
              "      <td>TV-PG</td>\n",
              "      <td>19</td>\n",
              "      <td>['comedy', 'family', 'animation', 'action', 'f...</td>\n",
              "      <td>['US']</td>\n",
              "      <td>26.0</td>\n",
              "      <td>tt0850645</td>\n",
              "      <td>8.6</td>\n",
              "      <td>1092.0</td>\n",
              "      <td>15.424</td>\n",
              "      <td>7.6</td>\n",
              "      <td>31460.0</td>\n",
              "      <td>Moe Howard</td>\n",
              "      <td>Moe</td>\n",
              "      <td>ACTOR</td>\n",
              "    </tr>\n",
              "    <tr>\n",
              "      <th>2</th>\n",
              "      <td>ts20945</td>\n",
              "      <td>The Three Stooges</td>\n",
              "      <td>SHOW</td>\n",
              "      <td>The Three Stooges were an American vaudeville ...</td>\n",
              "      <td>1934</td>\n",
              "      <td>TV-PG</td>\n",
              "      <td>19</td>\n",
              "      <td>['comedy', 'family', 'animation', 'action', 'f...</td>\n",
              "      <td>['US']</td>\n",
              "      <td>26.0</td>\n",
              "      <td>tt0850645</td>\n",
              "      <td>8.6</td>\n",
              "      <td>1092.0</td>\n",
              "      <td>15.424</td>\n",
              "      <td>7.6</td>\n",
              "      <td>31461.0</td>\n",
              "      <td>Larry Fine</td>\n",
              "      <td>Larry</td>\n",
              "      <td>ACTOR</td>\n",
              "    </tr>\n",
              "    <tr>\n",
              "      <th>3</th>\n",
              "      <td>tm19248</td>\n",
              "      <td>The General</td>\n",
              "      <td>MOVIE</td>\n",
              "      <td>During America’s Civil War, Union spies steal ...</td>\n",
              "      <td>1926</td>\n",
              "      <td>NaN</td>\n",
              "      <td>78</td>\n",
              "      <td>['action', 'drama', 'war', 'western', 'comedy'...</td>\n",
              "      <td>['US']</td>\n",
              "      <td>NaN</td>\n",
              "      <td>tt0017925</td>\n",
              "      <td>8.2</td>\n",
              "      <td>89766.0</td>\n",
              "      <td>8.647</td>\n",
              "      <td>8.0</td>\n",
              "      <td>21174.0</td>\n",
              "      <td>Buster Keaton</td>\n",
              "      <td>Johnny Gray</td>\n",
              "      <td>ACTOR</td>\n",
              "    </tr>\n",
              "    <tr>\n",
              "      <th>4</th>\n",
              "      <td>tm19248</td>\n",
              "      <td>The General</td>\n",
              "      <td>MOVIE</td>\n",
              "      <td>During America’s Civil War, Union spies steal ...</td>\n",
              "      <td>1926</td>\n",
              "      <td>NaN</td>\n",
              "      <td>78</td>\n",
              "      <td>['action', 'drama', 'war', 'western', 'comedy'...</td>\n",
              "      <td>['US']</td>\n",
              "      <td>NaN</td>\n",
              "      <td>tt0017925</td>\n",
              "      <td>8.2</td>\n",
              "      <td>89766.0</td>\n",
              "      <td>8.647</td>\n",
              "      <td>8.0</td>\n",
              "      <td>28713.0</td>\n",
              "      <td>Marion Mack</td>\n",
              "      <td>Annabelle Lee</td>\n",
              "      <td>ACTOR</td>\n",
              "    </tr>\n",
              "  </tbody>\n",
              "</table>\n",
              "</div>\n",
              "    <div class=\"colab-df-buttons\">\n",
              "\n",
              "  <div class=\"colab-df-container\">\n",
              "    <button class=\"colab-df-convert\" onclick=\"convertToInteractive('df-65261a92-5134-49a9-894e-47107fbe663b')\"\n",
              "            title=\"Convert this dataframe to an interactive table.\"\n",
              "            style=\"display:none;\">\n",
              "\n",
              "  <svg xmlns=\"http://www.w3.org/2000/svg\" height=\"24px\" viewBox=\"0 -960 960 960\">\n",
              "    <path d=\"M120-120v-720h720v720H120Zm60-500h600v-160H180v160Zm220 220h160v-160H400v160Zm0 220h160v-160H400v160ZM180-400h160v-160H180v160Zm440 0h160v-160H620v160ZM180-180h160v-160H180v160Zm440 0h160v-160H620v160Z\"/>\n",
              "  </svg>\n",
              "    </button>\n",
              "\n",
              "  <style>\n",
              "    .colab-df-container {\n",
              "      display:flex;\n",
              "      gap: 12px;\n",
              "    }\n",
              "\n",
              "    .colab-df-convert {\n",
              "      background-color: #E8F0FE;\n",
              "      border: none;\n",
              "      border-radius: 50%;\n",
              "      cursor: pointer;\n",
              "      display: none;\n",
              "      fill: #1967D2;\n",
              "      height: 32px;\n",
              "      padding: 0 0 0 0;\n",
              "      width: 32px;\n",
              "    }\n",
              "\n",
              "    .colab-df-convert:hover {\n",
              "      background-color: #E2EBFA;\n",
              "      box-shadow: 0px 1px 2px rgba(60, 64, 67, 0.3), 0px 1px 3px 1px rgba(60, 64, 67, 0.15);\n",
              "      fill: #174EA6;\n",
              "    }\n",
              "\n",
              "    .colab-df-buttons div {\n",
              "      margin-bottom: 4px;\n",
              "    }\n",
              "\n",
              "    [theme=dark] .colab-df-convert {\n",
              "      background-color: #3B4455;\n",
              "      fill: #D2E3FC;\n",
              "    }\n",
              "\n",
              "    [theme=dark] .colab-df-convert:hover {\n",
              "      background-color: #434B5C;\n",
              "      box-shadow: 0px 1px 3px 1px rgba(0, 0, 0, 0.15);\n",
              "      filter: drop-shadow(0px 1px 2px rgba(0, 0, 0, 0.3));\n",
              "      fill: #FFFFFF;\n",
              "    }\n",
              "  </style>\n",
              "\n",
              "    <script>\n",
              "      const buttonEl =\n",
              "        document.querySelector('#df-65261a92-5134-49a9-894e-47107fbe663b button.colab-df-convert');\n",
              "      buttonEl.style.display =\n",
              "        google.colab.kernel.accessAllowed ? 'block' : 'none';\n",
              "\n",
              "      async function convertToInteractive(key) {\n",
              "        const element = document.querySelector('#df-65261a92-5134-49a9-894e-47107fbe663b');\n",
              "        const dataTable =\n",
              "          await google.colab.kernel.invokeFunction('convertToInteractive',\n",
              "                                                    [key], {});\n",
              "        if (!dataTable) return;\n",
              "\n",
              "        const docLinkHtml = 'Like what you see? Visit the ' +\n",
              "          '<a target=\"_blank\" href=https://colab.research.google.com/notebooks/data_table.ipynb>data table notebook</a>'\n",
              "          + ' to learn more about interactive tables.';\n",
              "        element.innerHTML = '';\n",
              "        dataTable['output_type'] = 'display_data';\n",
              "        await google.colab.output.renderOutput(dataTable, element);\n",
              "        const docLink = document.createElement('div');\n",
              "        docLink.innerHTML = docLinkHtml;\n",
              "        element.appendChild(docLink);\n",
              "      }\n",
              "    </script>\n",
              "  </div>\n",
              "\n",
              "\n",
              "    <div id=\"df-08543c48-3ee2-49a7-b3cd-0fa508836a55\">\n",
              "      <button class=\"colab-df-quickchart\" onclick=\"quickchart('df-08543c48-3ee2-49a7-b3cd-0fa508836a55')\"\n",
              "                title=\"Suggest charts\"\n",
              "                style=\"display:none;\">\n",
              "\n",
              "<svg xmlns=\"http://www.w3.org/2000/svg\" height=\"24px\"viewBox=\"0 0 24 24\"\n",
              "     width=\"24px\">\n",
              "    <g>\n",
              "        <path d=\"M19 3H5c-1.1 0-2 .9-2 2v14c0 1.1.9 2 2 2h14c1.1 0 2-.9 2-2V5c0-1.1-.9-2-2-2zM9 17H7v-7h2v7zm4 0h-2V7h2v10zm4 0h-2v-4h2v4z\"/>\n",
              "    </g>\n",
              "</svg>\n",
              "      </button>\n",
              "\n",
              "<style>\n",
              "  .colab-df-quickchart {\n",
              "      --bg-color: #E8F0FE;\n",
              "      --fill-color: #1967D2;\n",
              "      --hover-bg-color: #E2EBFA;\n",
              "      --hover-fill-color: #174EA6;\n",
              "      --disabled-fill-color: #AAA;\n",
              "      --disabled-bg-color: #DDD;\n",
              "  }\n",
              "\n",
              "  [theme=dark] .colab-df-quickchart {\n",
              "      --bg-color: #3B4455;\n",
              "      --fill-color: #D2E3FC;\n",
              "      --hover-bg-color: #434B5C;\n",
              "      --hover-fill-color: #FFFFFF;\n",
              "      --disabled-bg-color: #3B4455;\n",
              "      --disabled-fill-color: #666;\n",
              "  }\n",
              "\n",
              "  .colab-df-quickchart {\n",
              "    background-color: var(--bg-color);\n",
              "    border: none;\n",
              "    border-radius: 50%;\n",
              "    cursor: pointer;\n",
              "    display: none;\n",
              "    fill: var(--fill-color);\n",
              "    height: 32px;\n",
              "    padding: 0;\n",
              "    width: 32px;\n",
              "  }\n",
              "\n",
              "  .colab-df-quickchart:hover {\n",
              "    background-color: var(--hover-bg-color);\n",
              "    box-shadow: 0 1px 2px rgba(60, 64, 67, 0.3), 0 1px 3px 1px rgba(60, 64, 67, 0.15);\n",
              "    fill: var(--button-hover-fill-color);\n",
              "  }\n",
              "\n",
              "  .colab-df-quickchart-complete:disabled,\n",
              "  .colab-df-quickchart-complete:disabled:hover {\n",
              "    background-color: var(--disabled-bg-color);\n",
              "    fill: var(--disabled-fill-color);\n",
              "    box-shadow: none;\n",
              "  }\n",
              "\n",
              "  .colab-df-spinner {\n",
              "    border: 2px solid var(--fill-color);\n",
              "    border-color: transparent;\n",
              "    border-bottom-color: var(--fill-color);\n",
              "    animation:\n",
              "      spin 1s steps(1) infinite;\n",
              "  }\n",
              "\n",
              "  @keyframes spin {\n",
              "    0% {\n",
              "      border-color: transparent;\n",
              "      border-bottom-color: var(--fill-color);\n",
              "      border-left-color: var(--fill-color);\n",
              "    }\n",
              "    20% {\n",
              "      border-color: transparent;\n",
              "      border-left-color: var(--fill-color);\n",
              "      border-top-color: var(--fill-color);\n",
              "    }\n",
              "    30% {\n",
              "      border-color: transparent;\n",
              "      border-left-color: var(--fill-color);\n",
              "      border-top-color: var(--fill-color);\n",
              "      border-right-color: var(--fill-color);\n",
              "    }\n",
              "    40% {\n",
              "      border-color: transparent;\n",
              "      border-right-color: var(--fill-color);\n",
              "      border-top-color: var(--fill-color);\n",
              "    }\n",
              "    60% {\n",
              "      border-color: transparent;\n",
              "      border-right-color: var(--fill-color);\n",
              "    }\n",
              "    80% {\n",
              "      border-color: transparent;\n",
              "      border-right-color: var(--fill-color);\n",
              "      border-bottom-color: var(--fill-color);\n",
              "    }\n",
              "    90% {\n",
              "      border-color: transparent;\n",
              "      border-bottom-color: var(--fill-color);\n",
              "    }\n",
              "  }\n",
              "</style>\n",
              "\n",
              "      <script>\n",
              "        async function quickchart(key) {\n",
              "          const quickchartButtonEl =\n",
              "            document.querySelector('#' + key + ' button');\n",
              "          quickchartButtonEl.disabled = true;  // To prevent multiple clicks.\n",
              "          quickchartButtonEl.classList.add('colab-df-spinner');\n",
              "          try {\n",
              "            const charts = await google.colab.kernel.invokeFunction(\n",
              "                'suggestCharts', [key], {});\n",
              "          } catch (error) {\n",
              "            console.error('Error during call to suggestCharts:', error);\n",
              "          }\n",
              "          quickchartButtonEl.classList.remove('colab-df-spinner');\n",
              "          quickchartButtonEl.classList.add('colab-df-quickchart-complete');\n",
              "        }\n",
              "        (() => {\n",
              "          let quickchartButtonEl =\n",
              "            document.querySelector('#df-08543c48-3ee2-49a7-b3cd-0fa508836a55 button');\n",
              "          quickchartButtonEl.style.display =\n",
              "            google.colab.kernel.accessAllowed ? 'block' : 'none';\n",
              "        })();\n",
              "      </script>\n",
              "    </div>\n",
              "\n",
              "    </div>\n",
              "  </div>\n"
            ],
            "application/vnd.google.colaboratory.intrinsic+json": {
              "type": "dataframe",
              "variable_name": "merged_df"
            }
          },
          "metadata": {},
          "execution_count": 5
        }
      ]
    },
    {
      "cell_type": "markdown",
      "source": [
        "### Dataset Rows & Columns count"
      ],
      "metadata": {
        "id": "8GGeyRORdtvY"
      }
    },
    {
      "cell_type": "code",
      "source": [
        "merged_df.shape"
      ],
      "metadata": {
        "colab": {
          "base_uri": "https://localhost:8080/"
        },
        "id": "ZoX7iOQYbuZh",
        "outputId": "94d0e340-e373-434a-9a1b-c1c5fcd1eeb8"
      },
      "execution_count": null,
      "outputs": [
        {
          "output_type": "execute_result",
          "data": {
            "text/plain": [
              "(125354, 19)"
            ]
          },
          "metadata": {},
          "execution_count": 6
        }
      ]
    },
    {
      "cell_type": "markdown",
      "source": [
        "### Dataset Information"
      ],
      "metadata": {
        "id": "9eLaXfe1eIX_"
      }
    },
    {
      "cell_type": "code",
      "source": [
        "merged_df.info()"
      ],
      "metadata": {
        "colab": {
          "base_uri": "https://localhost:8080/"
        },
        "id": "wEYbZwYpbuQn",
        "outputId": "f3e69543-cbea-444f-e61f-82153b488d54"
      },
      "execution_count": null,
      "outputs": [
        {
          "output_type": "stream",
          "name": "stdout",
          "text": [
            "<class 'pandas.core.frame.DataFrame'>\n",
            "RangeIndex: 125354 entries, 0 to 125353\n",
            "Data columns (total 19 columns):\n",
            " #   Column                Non-Null Count   Dtype  \n",
            "---  ------                --------------   -----  \n",
            " 0   id                    125354 non-null  object \n",
            " 1   title                 125354 non-null  object \n",
            " 2   type                  125354 non-null  object \n",
            " 3   description           125163 non-null  object \n",
            " 4   release_year          125354 non-null  int64  \n",
            " 5   age_certification     56857 non-null   object \n",
            " 6   runtime               125354 non-null  int64  \n",
            " 7   genres                125354 non-null  object \n",
            " 8   production_countries  125354 non-null  object \n",
            " 9   seasons               8501 non-null    float64\n",
            " 10  imdb_id               119978 non-null  object \n",
            " 11  imdb_score            118987 non-null  float64\n",
            " 12  imdb_votes            118957 non-null  float64\n",
            " 13  tmdb_popularity       124800 non-null  float64\n",
            " 14  tmdb_score            114263 non-null  float64\n",
            " 15  person_id             124347 non-null  float64\n",
            " 16  name                  124347 non-null  object \n",
            " 17  character             108040 non-null  object \n",
            " 18  role                  124347 non-null  object \n",
            "dtypes: float64(6), int64(2), object(11)\n",
            "memory usage: 18.2+ MB\n"
          ]
        }
      ]
    },
    {
      "cell_type": "markdown",
      "source": [
        "#### Duplicate Values"
      ],
      "metadata": {
        "id": "QKn08pP2e5MK"
      }
    },
    {
      "cell_type": "code",
      "source": [
        "# Dataset Duplicate Value Count\n",
        "#duplicate_values = merged_df.duplicated().sum()\n",
        "\n",
        "#duplicate_values\n",
        "\n",
        "# Count the number of duplicates before dropping them\n",
        "duplicate_count = merged_df.duplicated(subset=['id', 'title', 'type', 'release_year']).sum()\n",
        "print(f\"Number of duplicate entries: {duplicate_count}\")\n"
      ],
      "metadata": {
        "colab": {
          "base_uri": "https://localhost:8080/"
        },
        "id": "1WCuqq-bbuKr",
        "outputId": "b70a40cb-7132-45b3-c452-9f158d4460ae"
      },
      "execution_count": null,
      "outputs": [
        {
          "output_type": "stream",
          "name": "stdout",
          "text": [
            "Number of duplicate entries: 115486\n"
          ]
        }
      ]
    },
    {
      "cell_type": "markdown",
      "source": [
        "####Handling Duplicate Values"
      ],
      "metadata": {
        "id": "ptGG1a-EvOdt"
      }
    },
    {
      "cell_type": "code",
      "source": [
        "# Drop duplicates based only on show metadata\n",
        "merged_df = merged_df.drop_duplicates(subset=['id', 'title', 'type', 'release_year'])"
      ],
      "metadata": {
        "id": "u3NB00n5umIv"
      },
      "execution_count": null,
      "outputs": []
    },
    {
      "cell_type": "code",
      "source": [
        "print(\"Data Structure BEFORE dropping:\", merged_df.shape)\n",
        "\n",
        "#Dropping Duplicate Values and storing the changes in the dataframe itself\n",
        "merged_df = merged_df.drop_duplicates()\n",
        "\n",
        "print(f\"Total Duplicate Values are:{duplicate_count}\")\n",
        "print(\"Data Structure AFTER dropping:\", merged_df.shape)"
      ],
      "metadata": {
        "colab": {
          "base_uri": "https://localhost:8080/"
        },
        "id": "S3XpKzqSzTGP",
        "outputId": "d0b3172e-07db-4fa7-b5c5-dd9d3e43a4fa"
      },
      "execution_count": null,
      "outputs": [
        {
          "output_type": "stream",
          "name": "stdout",
          "text": [
            "Data Structure BEFORE dropping: (9868, 19)\n",
            "Total Duplicate Values are:115486\n",
            "Data Structure AFTER dropping: (9868, 19)\n"
          ]
        }
      ]
    },
    {
      "cell_type": "code",
      "source": [
        "#Data Info after removing duplicates\n",
        "\n",
        "merged_df.info()"
      ],
      "metadata": {
        "colab": {
          "base_uri": "https://localhost:8080/"
        },
        "id": "qS5-NRIuAc6_",
        "outputId": "ef12517d-6230-43e9-e7ce-af85d92e06e4"
      },
      "execution_count": null,
      "outputs": [
        {
          "output_type": "stream",
          "name": "stdout",
          "text": [
            "<class 'pandas.core.frame.DataFrame'>\n",
            "Index: 9868 entries, 0 to 125353\n",
            "Data columns (total 19 columns):\n",
            " #   Column                Non-Null Count  Dtype  \n",
            "---  ------                --------------  -----  \n",
            " 0   id                    9868 non-null   object \n",
            " 1   title                 9868 non-null   object \n",
            " 2   type                  9868 non-null   object \n",
            " 3   description           9749 non-null   object \n",
            " 4   release_year          9868 non-null   int64  \n",
            " 5   age_certification     3384 non-null   object \n",
            " 6   runtime               9868 non-null   int64  \n",
            " 7   genres                9868 non-null   object \n",
            " 8   production_countries  9868 non-null   object \n",
            " 9   seasons               1357 non-null   float64\n",
            " 10  imdb_id               9201 non-null   object \n",
            " 11  imdb_score            8847 non-null   float64\n",
            " 12  imdb_votes            8837 non-null   float64\n",
            " 13  tmdb_popularity       9321 non-null   float64\n",
            " 14  tmdb_score            7788 non-null   float64\n",
            " 15  person_id             8861 non-null   float64\n",
            " 16  name                  8861 non-null   object \n",
            " 17  character             7952 non-null   object \n",
            " 18  role                  8861 non-null   object \n",
            "dtypes: float64(6), int64(2), object(11)\n",
            "memory usage: 1.5+ MB\n"
          ]
        }
      ]
    },
    {
      "cell_type": "markdown",
      "source": [
        "####Handling Multi_Value Categorical Features"
      ],
      "metadata": {
        "id": "by9NN1Rt7z7m"
      }
    },
    {
      "cell_type": "code",
      "source": [
        "# Ensure production_countries & genres are properly formatted as lists\n",
        "merged_df['production_countries'] = merged_df['production_countries'].str.strip(\"[]\").str.replace(\"'\", \"\").str.split(',')\n",
        "merged_df['genres'] = merged_df['genres'].str.strip(\"[]\").str.replace(\"'\", \"\").str.split(',')\n",
        "\n",
        "# Explode the columns to create one row per country & genre\n",
        "merged_df = merged_df.explode('production_countries')\n",
        "merged_df = merged_df.explode('genres')\n",
        "\n",
        "# Remove extra spaces\n",
        "merged_df['production_countries'] = merged_df['production_countries'].str.strip()\n",
        "merged_df['genres'] = merged_df['genres'].str.strip()\n",
        "\n",
        "# Display the cleaned DataFrame\n",
        "merged_df\n",
        "\n"
      ],
      "metadata": {
        "colab": {
          "base_uri": "https://localhost:8080/",
          "height": 1000
        },
        "id": "FVHnmE6s7zbR",
        "outputId": "1aadbe7a-3375-4f6e-9241-03b6d75fd213"
      },
      "execution_count": null,
      "outputs": [
        {
          "output_type": "execute_result",
          "data": {
            "text/plain": [
              "               id                            title   type  \\\n",
              "0         ts20945                The Three Stooges   SHOW   \n",
              "0         ts20945                The Three Stooges   SHOW   \n",
              "0         ts20945                The Three Stooges   SHOW   \n",
              "0         ts20945                The Three Stooges   SHOW   \n",
              "0         ts20945                The Three Stooges   SHOW   \n",
              "...           ...                              ...    ...   \n",
              "125339  tm1079144  Jay Nog: Something from Nothing  MOVIE   \n",
              "125341   tm847725                          Chasing  MOVIE   \n",
              "125348  tm1054116                         Baikunth  MOVIE   \n",
              "125348  tm1054116                         Baikunth  MOVIE   \n",
              "125353   ts275838                 Waking Up Eighty   SHOW   \n",
              "\n",
              "                                              description  release_year  \\\n",
              "0       The Three Stooges were an American vaudeville ...          1934   \n",
              "0       The Three Stooges were an American vaudeville ...          1934   \n",
              "0       The Three Stooges were an American vaudeville ...          1934   \n",
              "0       The Three Stooges were an American vaudeville ...          1934   \n",
              "0       The Three Stooges were an American vaudeville ...          1934   \n",
              "...                                                   ...           ...   \n",
              "125339  Something From Nothing takes you on a stand-up...          2021   \n",
              "125341  A cop from Chennai sets out to nab a dreaded d...          2021   \n",
              "125348  This story is about prevalent caste problem, e...          2021   \n",
              "125348  This story is about prevalent caste problem, e...          2021   \n",
              "125353  Kara Stewart, 16, is fed up with just about ev...          2021   \n",
              "\n",
              "       age_certification  runtime     genres production_countries  seasons  \\\n",
              "0                  TV-PG       19     comedy                   US     26.0   \n",
              "0                  TV-PG       19     family                   US     26.0   \n",
              "0                  TV-PG       19  animation                   US     26.0   \n",
              "0                  TV-PG       19     action                   US     26.0   \n",
              "0                  TV-PG       19    fantasy                   US     26.0   \n",
              "...                  ...      ...        ...                  ...      ...   \n",
              "125339               NaN       55     comedy                   US      NaN   \n",
              "125341               NaN      116      crime                   IN      NaN   \n",
              "125348               NaN       72     family                           NaN   \n",
              "125348               NaN       72      drama                           NaN   \n",
              "125353               NaN       10      drama                           1.0   \n",
              "\n",
              "           imdb_id  imdb_score  imdb_votes  tmdb_popularity  tmdb_score  \\\n",
              "0        tt0850645         8.6      1092.0           15.424         7.6   \n",
              "0        tt0850645         8.6      1092.0           15.424         7.6   \n",
              "0        tt0850645         8.6      1092.0           15.424         7.6   \n",
              "0        tt0850645         8.6      1092.0           15.424         7.6   \n",
              "0        tt0850645         8.6      1092.0           15.424         7.6   \n",
              "...            ...         ...         ...              ...         ...   \n",
              "125339  tt15041600         NaN         NaN            0.600         NaN   \n",
              "125341         NaN         NaN         NaN            1.960         NaN   \n",
              "125348  tt14331982         8.4        49.0            0.645         NaN   \n",
              "125348  tt14331982         8.4        49.0            0.645         NaN   \n",
              "125353  tt13542552         NaN         NaN              NaN         NaN   \n",
              "\n",
              "        person_id                   name character   role  \n",
              "0         59401.0             Joe Besser       Joe  ACTOR  \n",
              "0         59401.0             Joe Besser       Joe  ACTOR  \n",
              "0         59401.0             Joe Besser       Joe  ACTOR  \n",
              "0         59401.0             Joe Besser       Joe  ACTOR  \n",
              "0         59401.0             Joe Besser       Joe  ACTOR  \n",
              "...           ...                    ...       ...    ...  \n",
              "125339  2084915.0                Jay Nog      Self  ACTOR  \n",
              "125341   193033.0  Varalaxmi Sarathkumar       NaN  ACTOR  \n",
              "125348  1938589.0          Sangam Shukla    Madhav  ACTOR  \n",
              "125348  1938589.0          Sangam Shukla    Madhav  ACTOR  \n",
              "125353        NaN                    NaN       NaN    NaN  \n",
              "\n",
              "[25819 rows x 19 columns]"
            ],
            "text/html": [
              "\n",
              "  <div id=\"df-564b0919-966e-4370-900d-1c18238794ff\" class=\"colab-df-container\">\n",
              "    <div>\n",
              "<style scoped>\n",
              "    .dataframe tbody tr th:only-of-type {\n",
              "        vertical-align: middle;\n",
              "    }\n",
              "\n",
              "    .dataframe tbody tr th {\n",
              "        vertical-align: top;\n",
              "    }\n",
              "\n",
              "    .dataframe thead th {\n",
              "        text-align: right;\n",
              "    }\n",
              "</style>\n",
              "<table border=\"1\" class=\"dataframe\">\n",
              "  <thead>\n",
              "    <tr style=\"text-align: right;\">\n",
              "      <th></th>\n",
              "      <th>id</th>\n",
              "      <th>title</th>\n",
              "      <th>type</th>\n",
              "      <th>description</th>\n",
              "      <th>release_year</th>\n",
              "      <th>age_certification</th>\n",
              "      <th>runtime</th>\n",
              "      <th>genres</th>\n",
              "      <th>production_countries</th>\n",
              "      <th>seasons</th>\n",
              "      <th>imdb_id</th>\n",
              "      <th>imdb_score</th>\n",
              "      <th>imdb_votes</th>\n",
              "      <th>tmdb_popularity</th>\n",
              "      <th>tmdb_score</th>\n",
              "      <th>person_id</th>\n",
              "      <th>name</th>\n",
              "      <th>character</th>\n",
              "      <th>role</th>\n",
              "    </tr>\n",
              "  </thead>\n",
              "  <tbody>\n",
              "    <tr>\n",
              "      <th>0</th>\n",
              "      <td>ts20945</td>\n",
              "      <td>The Three Stooges</td>\n",
              "      <td>SHOW</td>\n",
              "      <td>The Three Stooges were an American vaudeville ...</td>\n",
              "      <td>1934</td>\n",
              "      <td>TV-PG</td>\n",
              "      <td>19</td>\n",
              "      <td>comedy</td>\n",
              "      <td>US</td>\n",
              "      <td>26.0</td>\n",
              "      <td>tt0850645</td>\n",
              "      <td>8.6</td>\n",
              "      <td>1092.0</td>\n",
              "      <td>15.424</td>\n",
              "      <td>7.6</td>\n",
              "      <td>59401.0</td>\n",
              "      <td>Joe Besser</td>\n",
              "      <td>Joe</td>\n",
              "      <td>ACTOR</td>\n",
              "    </tr>\n",
              "    <tr>\n",
              "      <th>0</th>\n",
              "      <td>ts20945</td>\n",
              "      <td>The Three Stooges</td>\n",
              "      <td>SHOW</td>\n",
              "      <td>The Three Stooges were an American vaudeville ...</td>\n",
              "      <td>1934</td>\n",
              "      <td>TV-PG</td>\n",
              "      <td>19</td>\n",
              "      <td>family</td>\n",
              "      <td>US</td>\n",
              "      <td>26.0</td>\n",
              "      <td>tt0850645</td>\n",
              "      <td>8.6</td>\n",
              "      <td>1092.0</td>\n",
              "      <td>15.424</td>\n",
              "      <td>7.6</td>\n",
              "      <td>59401.0</td>\n",
              "      <td>Joe Besser</td>\n",
              "      <td>Joe</td>\n",
              "      <td>ACTOR</td>\n",
              "    </tr>\n",
              "    <tr>\n",
              "      <th>0</th>\n",
              "      <td>ts20945</td>\n",
              "      <td>The Three Stooges</td>\n",
              "      <td>SHOW</td>\n",
              "      <td>The Three Stooges were an American vaudeville ...</td>\n",
              "      <td>1934</td>\n",
              "      <td>TV-PG</td>\n",
              "      <td>19</td>\n",
              "      <td>animation</td>\n",
              "      <td>US</td>\n",
              "      <td>26.0</td>\n",
              "      <td>tt0850645</td>\n",
              "      <td>8.6</td>\n",
              "      <td>1092.0</td>\n",
              "      <td>15.424</td>\n",
              "      <td>7.6</td>\n",
              "      <td>59401.0</td>\n",
              "      <td>Joe Besser</td>\n",
              "      <td>Joe</td>\n",
              "      <td>ACTOR</td>\n",
              "    </tr>\n",
              "    <tr>\n",
              "      <th>0</th>\n",
              "      <td>ts20945</td>\n",
              "      <td>The Three Stooges</td>\n",
              "      <td>SHOW</td>\n",
              "      <td>The Three Stooges were an American vaudeville ...</td>\n",
              "      <td>1934</td>\n",
              "      <td>TV-PG</td>\n",
              "      <td>19</td>\n",
              "      <td>action</td>\n",
              "      <td>US</td>\n",
              "      <td>26.0</td>\n",
              "      <td>tt0850645</td>\n",
              "      <td>8.6</td>\n",
              "      <td>1092.0</td>\n",
              "      <td>15.424</td>\n",
              "      <td>7.6</td>\n",
              "      <td>59401.0</td>\n",
              "      <td>Joe Besser</td>\n",
              "      <td>Joe</td>\n",
              "      <td>ACTOR</td>\n",
              "    </tr>\n",
              "    <tr>\n",
              "      <th>0</th>\n",
              "      <td>ts20945</td>\n",
              "      <td>The Three Stooges</td>\n",
              "      <td>SHOW</td>\n",
              "      <td>The Three Stooges were an American vaudeville ...</td>\n",
              "      <td>1934</td>\n",
              "      <td>TV-PG</td>\n",
              "      <td>19</td>\n",
              "      <td>fantasy</td>\n",
              "      <td>US</td>\n",
              "      <td>26.0</td>\n",
              "      <td>tt0850645</td>\n",
              "      <td>8.6</td>\n",
              "      <td>1092.0</td>\n",
              "      <td>15.424</td>\n",
              "      <td>7.6</td>\n",
              "      <td>59401.0</td>\n",
              "      <td>Joe Besser</td>\n",
              "      <td>Joe</td>\n",
              "      <td>ACTOR</td>\n",
              "    </tr>\n",
              "    <tr>\n",
              "      <th>...</th>\n",
              "      <td>...</td>\n",
              "      <td>...</td>\n",
              "      <td>...</td>\n",
              "      <td>...</td>\n",
              "      <td>...</td>\n",
              "      <td>...</td>\n",
              "      <td>...</td>\n",
              "      <td>...</td>\n",
              "      <td>...</td>\n",
              "      <td>...</td>\n",
              "      <td>...</td>\n",
              "      <td>...</td>\n",
              "      <td>...</td>\n",
              "      <td>...</td>\n",
              "      <td>...</td>\n",
              "      <td>...</td>\n",
              "      <td>...</td>\n",
              "      <td>...</td>\n",
              "      <td>...</td>\n",
              "    </tr>\n",
              "    <tr>\n",
              "      <th>125339</th>\n",
              "      <td>tm1079144</td>\n",
              "      <td>Jay Nog: Something from Nothing</td>\n",
              "      <td>MOVIE</td>\n",
              "      <td>Something From Nothing takes you on a stand-up...</td>\n",
              "      <td>2021</td>\n",
              "      <td>NaN</td>\n",
              "      <td>55</td>\n",
              "      <td>comedy</td>\n",
              "      <td>US</td>\n",
              "      <td>NaN</td>\n",
              "      <td>tt15041600</td>\n",
              "      <td>NaN</td>\n",
              "      <td>NaN</td>\n",
              "      <td>0.600</td>\n",
              "      <td>NaN</td>\n",
              "      <td>2084915.0</td>\n",
              "      <td>Jay Nog</td>\n",
              "      <td>Self</td>\n",
              "      <td>ACTOR</td>\n",
              "    </tr>\n",
              "    <tr>\n",
              "      <th>125341</th>\n",
              "      <td>tm847725</td>\n",
              "      <td>Chasing</td>\n",
              "      <td>MOVIE</td>\n",
              "      <td>A cop from Chennai sets out to nab a dreaded d...</td>\n",
              "      <td>2021</td>\n",
              "      <td>NaN</td>\n",
              "      <td>116</td>\n",
              "      <td>crime</td>\n",
              "      <td>IN</td>\n",
              "      <td>NaN</td>\n",
              "      <td>NaN</td>\n",
              "      <td>NaN</td>\n",
              "      <td>NaN</td>\n",
              "      <td>1.960</td>\n",
              "      <td>NaN</td>\n",
              "      <td>193033.0</td>\n",
              "      <td>Varalaxmi Sarathkumar</td>\n",
              "      <td>NaN</td>\n",
              "      <td>ACTOR</td>\n",
              "    </tr>\n",
              "    <tr>\n",
              "      <th>125348</th>\n",
              "      <td>tm1054116</td>\n",
              "      <td>Baikunth</td>\n",
              "      <td>MOVIE</td>\n",
              "      <td>This story is about prevalent caste problem, e...</td>\n",
              "      <td>2021</td>\n",
              "      <td>NaN</td>\n",
              "      <td>72</td>\n",
              "      <td>family</td>\n",
              "      <td></td>\n",
              "      <td>NaN</td>\n",
              "      <td>tt14331982</td>\n",
              "      <td>8.4</td>\n",
              "      <td>49.0</td>\n",
              "      <td>0.645</td>\n",
              "      <td>NaN</td>\n",
              "      <td>1938589.0</td>\n",
              "      <td>Sangam Shukla</td>\n",
              "      <td>Madhav</td>\n",
              "      <td>ACTOR</td>\n",
              "    </tr>\n",
              "    <tr>\n",
              "      <th>125348</th>\n",
              "      <td>tm1054116</td>\n",
              "      <td>Baikunth</td>\n",
              "      <td>MOVIE</td>\n",
              "      <td>This story is about prevalent caste problem, e...</td>\n",
              "      <td>2021</td>\n",
              "      <td>NaN</td>\n",
              "      <td>72</td>\n",
              "      <td>drama</td>\n",
              "      <td></td>\n",
              "      <td>NaN</td>\n",
              "      <td>tt14331982</td>\n",
              "      <td>8.4</td>\n",
              "      <td>49.0</td>\n",
              "      <td>0.645</td>\n",
              "      <td>NaN</td>\n",
              "      <td>1938589.0</td>\n",
              "      <td>Sangam Shukla</td>\n",
              "      <td>Madhav</td>\n",
              "      <td>ACTOR</td>\n",
              "    </tr>\n",
              "    <tr>\n",
              "      <th>125353</th>\n",
              "      <td>ts275838</td>\n",
              "      <td>Waking Up Eighty</td>\n",
              "      <td>SHOW</td>\n",
              "      <td>Kara Stewart, 16, is fed up with just about ev...</td>\n",
              "      <td>2021</td>\n",
              "      <td>NaN</td>\n",
              "      <td>10</td>\n",
              "      <td>drama</td>\n",
              "      <td></td>\n",
              "      <td>1.0</td>\n",
              "      <td>tt13542552</td>\n",
              "      <td>NaN</td>\n",
              "      <td>NaN</td>\n",
              "      <td>NaN</td>\n",
              "      <td>NaN</td>\n",
              "      <td>NaN</td>\n",
              "      <td>NaN</td>\n",
              "      <td>NaN</td>\n",
              "      <td>NaN</td>\n",
              "    </tr>\n",
              "  </tbody>\n",
              "</table>\n",
              "<p>25819 rows × 19 columns</p>\n",
              "</div>\n",
              "    <div class=\"colab-df-buttons\">\n",
              "\n",
              "  <div class=\"colab-df-container\">\n",
              "    <button class=\"colab-df-convert\" onclick=\"convertToInteractive('df-564b0919-966e-4370-900d-1c18238794ff')\"\n",
              "            title=\"Convert this dataframe to an interactive table.\"\n",
              "            style=\"display:none;\">\n",
              "\n",
              "  <svg xmlns=\"http://www.w3.org/2000/svg\" height=\"24px\" viewBox=\"0 -960 960 960\">\n",
              "    <path d=\"M120-120v-720h720v720H120Zm60-500h600v-160H180v160Zm220 220h160v-160H400v160Zm0 220h160v-160H400v160ZM180-400h160v-160H180v160Zm440 0h160v-160H620v160ZM180-180h160v-160H180v160Zm440 0h160v-160H620v160Z\"/>\n",
              "  </svg>\n",
              "    </button>\n",
              "\n",
              "  <style>\n",
              "    .colab-df-container {\n",
              "      display:flex;\n",
              "      gap: 12px;\n",
              "    }\n",
              "\n",
              "    .colab-df-convert {\n",
              "      background-color: #E8F0FE;\n",
              "      border: none;\n",
              "      border-radius: 50%;\n",
              "      cursor: pointer;\n",
              "      display: none;\n",
              "      fill: #1967D2;\n",
              "      height: 32px;\n",
              "      padding: 0 0 0 0;\n",
              "      width: 32px;\n",
              "    }\n",
              "\n",
              "    .colab-df-convert:hover {\n",
              "      background-color: #E2EBFA;\n",
              "      box-shadow: 0px 1px 2px rgba(60, 64, 67, 0.3), 0px 1px 3px 1px rgba(60, 64, 67, 0.15);\n",
              "      fill: #174EA6;\n",
              "    }\n",
              "\n",
              "    .colab-df-buttons div {\n",
              "      margin-bottom: 4px;\n",
              "    }\n",
              "\n",
              "    [theme=dark] .colab-df-convert {\n",
              "      background-color: #3B4455;\n",
              "      fill: #D2E3FC;\n",
              "    }\n",
              "\n",
              "    [theme=dark] .colab-df-convert:hover {\n",
              "      background-color: #434B5C;\n",
              "      box-shadow: 0px 1px 3px 1px rgba(0, 0, 0, 0.15);\n",
              "      filter: drop-shadow(0px 1px 2px rgba(0, 0, 0, 0.3));\n",
              "      fill: #FFFFFF;\n",
              "    }\n",
              "  </style>\n",
              "\n",
              "    <script>\n",
              "      const buttonEl =\n",
              "        document.querySelector('#df-564b0919-966e-4370-900d-1c18238794ff button.colab-df-convert');\n",
              "      buttonEl.style.display =\n",
              "        google.colab.kernel.accessAllowed ? 'block' : 'none';\n",
              "\n",
              "      async function convertToInteractive(key) {\n",
              "        const element = document.querySelector('#df-564b0919-966e-4370-900d-1c18238794ff');\n",
              "        const dataTable =\n",
              "          await google.colab.kernel.invokeFunction('convertToInteractive',\n",
              "                                                    [key], {});\n",
              "        if (!dataTable) return;\n",
              "\n",
              "        const docLinkHtml = 'Like what you see? Visit the ' +\n",
              "          '<a target=\"_blank\" href=https://colab.research.google.com/notebooks/data_table.ipynb>data table notebook</a>'\n",
              "          + ' to learn more about interactive tables.';\n",
              "        element.innerHTML = '';\n",
              "        dataTable['output_type'] = 'display_data';\n",
              "        await google.colab.output.renderOutput(dataTable, element);\n",
              "        const docLink = document.createElement('div');\n",
              "        docLink.innerHTML = docLinkHtml;\n",
              "        element.appendChild(docLink);\n",
              "      }\n",
              "    </script>\n",
              "  </div>\n",
              "\n",
              "\n",
              "    <div id=\"df-1fd1f073-a88c-445c-9cc1-c1f6759b67bf\">\n",
              "      <button class=\"colab-df-quickchart\" onclick=\"quickchart('df-1fd1f073-a88c-445c-9cc1-c1f6759b67bf')\"\n",
              "                title=\"Suggest charts\"\n",
              "                style=\"display:none;\">\n",
              "\n",
              "<svg xmlns=\"http://www.w3.org/2000/svg\" height=\"24px\"viewBox=\"0 0 24 24\"\n",
              "     width=\"24px\">\n",
              "    <g>\n",
              "        <path d=\"M19 3H5c-1.1 0-2 .9-2 2v14c0 1.1.9 2 2 2h14c1.1 0 2-.9 2-2V5c0-1.1-.9-2-2-2zM9 17H7v-7h2v7zm4 0h-2V7h2v10zm4 0h-2v-4h2v4z\"/>\n",
              "    </g>\n",
              "</svg>\n",
              "      </button>\n",
              "\n",
              "<style>\n",
              "  .colab-df-quickchart {\n",
              "      --bg-color: #E8F0FE;\n",
              "      --fill-color: #1967D2;\n",
              "      --hover-bg-color: #E2EBFA;\n",
              "      --hover-fill-color: #174EA6;\n",
              "      --disabled-fill-color: #AAA;\n",
              "      --disabled-bg-color: #DDD;\n",
              "  }\n",
              "\n",
              "  [theme=dark] .colab-df-quickchart {\n",
              "      --bg-color: #3B4455;\n",
              "      --fill-color: #D2E3FC;\n",
              "      --hover-bg-color: #434B5C;\n",
              "      --hover-fill-color: #FFFFFF;\n",
              "      --disabled-bg-color: #3B4455;\n",
              "      --disabled-fill-color: #666;\n",
              "  }\n",
              "\n",
              "  .colab-df-quickchart {\n",
              "    background-color: var(--bg-color);\n",
              "    border: none;\n",
              "    border-radius: 50%;\n",
              "    cursor: pointer;\n",
              "    display: none;\n",
              "    fill: var(--fill-color);\n",
              "    height: 32px;\n",
              "    padding: 0;\n",
              "    width: 32px;\n",
              "  }\n",
              "\n",
              "  .colab-df-quickchart:hover {\n",
              "    background-color: var(--hover-bg-color);\n",
              "    box-shadow: 0 1px 2px rgba(60, 64, 67, 0.3), 0 1px 3px 1px rgba(60, 64, 67, 0.15);\n",
              "    fill: var(--button-hover-fill-color);\n",
              "  }\n",
              "\n",
              "  .colab-df-quickchart-complete:disabled,\n",
              "  .colab-df-quickchart-complete:disabled:hover {\n",
              "    background-color: var(--disabled-bg-color);\n",
              "    fill: var(--disabled-fill-color);\n",
              "    box-shadow: none;\n",
              "  }\n",
              "\n",
              "  .colab-df-spinner {\n",
              "    border: 2px solid var(--fill-color);\n",
              "    border-color: transparent;\n",
              "    border-bottom-color: var(--fill-color);\n",
              "    animation:\n",
              "      spin 1s steps(1) infinite;\n",
              "  }\n",
              "\n",
              "  @keyframes spin {\n",
              "    0% {\n",
              "      border-color: transparent;\n",
              "      border-bottom-color: var(--fill-color);\n",
              "      border-left-color: var(--fill-color);\n",
              "    }\n",
              "    20% {\n",
              "      border-color: transparent;\n",
              "      border-left-color: var(--fill-color);\n",
              "      border-top-color: var(--fill-color);\n",
              "    }\n",
              "    30% {\n",
              "      border-color: transparent;\n",
              "      border-left-color: var(--fill-color);\n",
              "      border-top-color: var(--fill-color);\n",
              "      border-right-color: var(--fill-color);\n",
              "    }\n",
              "    40% {\n",
              "      border-color: transparent;\n",
              "      border-right-color: var(--fill-color);\n",
              "      border-top-color: var(--fill-color);\n",
              "    }\n",
              "    60% {\n",
              "      border-color: transparent;\n",
              "      border-right-color: var(--fill-color);\n",
              "    }\n",
              "    80% {\n",
              "      border-color: transparent;\n",
              "      border-right-color: var(--fill-color);\n",
              "      border-bottom-color: var(--fill-color);\n",
              "    }\n",
              "    90% {\n",
              "      border-color: transparent;\n",
              "      border-bottom-color: var(--fill-color);\n",
              "    }\n",
              "  }\n",
              "</style>\n",
              "\n",
              "      <script>\n",
              "        async function quickchart(key) {\n",
              "          const quickchartButtonEl =\n",
              "            document.querySelector('#' + key + ' button');\n",
              "          quickchartButtonEl.disabled = true;  // To prevent multiple clicks.\n",
              "          quickchartButtonEl.classList.add('colab-df-spinner');\n",
              "          try {\n",
              "            const charts = await google.colab.kernel.invokeFunction(\n",
              "                'suggestCharts', [key], {});\n",
              "          } catch (error) {\n",
              "            console.error('Error during call to suggestCharts:', error);\n",
              "          }\n",
              "          quickchartButtonEl.classList.remove('colab-df-spinner');\n",
              "          quickchartButtonEl.classList.add('colab-df-quickchart-complete');\n",
              "        }\n",
              "        (() => {\n",
              "          let quickchartButtonEl =\n",
              "            document.querySelector('#df-1fd1f073-a88c-445c-9cc1-c1f6759b67bf button');\n",
              "          quickchartButtonEl.style.display =\n",
              "            google.colab.kernel.accessAllowed ? 'block' : 'none';\n",
              "        })();\n",
              "      </script>\n",
              "    </div>\n",
              "\n",
              "  <div id=\"id_83eb8c1a-f167-494e-b4a3-ebfe9ea3ad42\">\n",
              "    <style>\n",
              "      .colab-df-generate {\n",
              "        background-color: #E8F0FE;\n",
              "        border: none;\n",
              "        border-radius: 50%;\n",
              "        cursor: pointer;\n",
              "        display: none;\n",
              "        fill: #1967D2;\n",
              "        height: 32px;\n",
              "        padding: 0 0 0 0;\n",
              "        width: 32px;\n",
              "      }\n",
              "\n",
              "      .colab-df-generate:hover {\n",
              "        background-color: #E2EBFA;\n",
              "        box-shadow: 0px 1px 2px rgba(60, 64, 67, 0.3), 0px 1px 3px 1px rgba(60, 64, 67, 0.15);\n",
              "        fill: #174EA6;\n",
              "      }\n",
              "\n",
              "      [theme=dark] .colab-df-generate {\n",
              "        background-color: #3B4455;\n",
              "        fill: #D2E3FC;\n",
              "      }\n",
              "\n",
              "      [theme=dark] .colab-df-generate:hover {\n",
              "        background-color: #434B5C;\n",
              "        box-shadow: 0px 1px 3px 1px rgba(0, 0, 0, 0.15);\n",
              "        filter: drop-shadow(0px 1px 2px rgba(0, 0, 0, 0.3));\n",
              "        fill: #FFFFFF;\n",
              "      }\n",
              "    </style>\n",
              "    <button class=\"colab-df-generate\" onclick=\"generateWithVariable('merged_df')\"\n",
              "            title=\"Generate code using this dataframe.\"\n",
              "            style=\"display:none;\">\n",
              "\n",
              "  <svg xmlns=\"http://www.w3.org/2000/svg\" height=\"24px\"viewBox=\"0 0 24 24\"\n",
              "       width=\"24px\">\n",
              "    <path d=\"M7,19H8.4L18.45,9,17,7.55,7,17.6ZM5,21V16.75L18.45,3.32a2,2,0,0,1,2.83,0l1.4,1.43a1.91,1.91,0,0,1,.58,1.4,1.91,1.91,0,0,1-.58,1.4L9.25,21ZM18.45,9,17,7.55Zm-12,3A5.31,5.31,0,0,0,4.9,8.1,5.31,5.31,0,0,0,1,6.5,5.31,5.31,0,0,0,4.9,4.9,5.31,5.31,0,0,0,6.5,1,5.31,5.31,0,0,0,8.1,4.9,5.31,5.31,0,0,0,12,6.5,5.46,5.46,0,0,0,6.5,12Z\"/>\n",
              "  </svg>\n",
              "    </button>\n",
              "    <script>\n",
              "      (() => {\n",
              "      const buttonEl =\n",
              "        document.querySelector('#id_83eb8c1a-f167-494e-b4a3-ebfe9ea3ad42 button.colab-df-generate');\n",
              "      buttonEl.style.display =\n",
              "        google.colab.kernel.accessAllowed ? 'block' : 'none';\n",
              "\n",
              "      buttonEl.onclick = () => {\n",
              "        google.colab.notebook.generateWithVariable('merged_df');\n",
              "      }\n",
              "      })();\n",
              "    </script>\n",
              "  </div>\n",
              "\n",
              "    </div>\n",
              "  </div>\n"
            ],
            "application/vnd.google.colaboratory.intrinsic+json": {
              "type": "dataframe",
              "variable_name": "merged_df",
              "summary": "{\n  \"name\": \"merged_df\",\n  \"rows\": 25819,\n  \"fields\": [\n    {\n      \"column\": \"id\",\n      \"properties\": {\n        \"dtype\": \"category\",\n        \"num_unique_values\": 9868,\n        \"samples\": [\n          \"tm39982\",\n          \"tm191600\",\n          \"tm1016257\"\n        ],\n        \"semantic_type\": \"\",\n        \"description\": \"\"\n      }\n    },\n    {\n      \"column\": \"title\",\n      \"properties\": {\n        \"dtype\": \"category\",\n        \"num_unique_values\": 9737,\n        \"samples\": [\n          \"Bhoot Chaturdashi\",\n          \"The Elephant in the Living Room\",\n          \"Always Greener\"\n        ],\n        \"semantic_type\": \"\",\n        \"description\": \"\"\n      }\n    },\n    {\n      \"column\": \"type\",\n      \"properties\": {\n        \"dtype\": \"category\",\n        \"num_unique_values\": 2,\n        \"samples\": [\n          \"MOVIE\",\n          \"SHOW\"\n        ],\n        \"semantic_type\": \"\",\n        \"description\": \"\"\n      }\n    },\n    {\n      \"column\": \"description\",\n      \"properties\": {\n        \"dtype\": \"category\",\n        \"num_unique_values\": 9734,\n        \"samples\": [\n          \"When the head of a statue sacred to a village is stolen, a young martial artist goes to the big city and finds himself taking on the underworld to retrieve it.\",\n          \"When a half-beast mercenary teams up with a witch who is in search of a magical tome that can destroy the world, a grand adventure ensues.  Despite his hatred of witches, he enters an agreement that shewill make him human once she reaches her goal.\"\n        ],\n        \"semantic_type\": \"\",\n        \"description\": \"\"\n      }\n    },\n    {\n      \"column\": \"release_year\",\n      \"properties\": {\n        \"dtype\": \"number\",\n        \"std\": 25,\n        \"min\": 1912,\n        \"max\": 2022,\n        \"num_unique_values\": 110,\n        \"samples\": [\n          1992,\n          1938\n        ],\n        \"semantic_type\": \"\",\n        \"description\": \"\"\n      }\n    },\n    {\n      \"column\": \"age_certification\",\n      \"properties\": {\n        \"dtype\": \"category\",\n        \"num_unique_values\": 11,\n        \"samples\": [\n          \"TV-G\",\n          \"TV-PG\"\n        ],\n        \"semantic_type\": \"\",\n        \"description\": \"\"\n      }\n    },\n    {\n      \"column\": \"runtime\",\n      \"properties\": {\n        \"dtype\": \"number\",\n        \"std\": 33,\n        \"min\": 1,\n        \"max\": 549,\n        \"num_unique_values\": 207,\n        \"samples\": [\n          174,\n          70\n        ],\n        \"semantic_type\": \"\",\n        \"description\": \"\"\n      }\n    },\n    {\n      \"column\": \"genres\",\n      \"properties\": {\n        \"dtype\": \"category\",\n        \"num_unique_values\": 20,\n        \"samples\": [\n          \"comedy\",\n          \"\"\n        ],\n        \"semantic_type\": \"\",\n        \"description\": \"\"\n      }\n    },\n    {\n      \"column\": \"production_countries\",\n      \"properties\": {\n        \"dtype\": \"category\",\n        \"num_unique_values\": 118,\n        \"samples\": [\n          \"BA\",\n          \"PK\"\n        ],\n        \"semantic_type\": \"\",\n        \"description\": \"\"\n      }\n    },\n    {\n      \"column\": \"seasons\",\n      \"properties\": {\n        \"dtype\": \"number\",\n        \"std\": 4.3894005975567865,\n        \"min\": 1.0,\n        \"max\": 51.0,\n        \"num_unique_values\": 32,\n        \"samples\": [\n          21.0,\n          7.0\n        ],\n        \"semantic_type\": \"\",\n        \"description\": \"\"\n      }\n    },\n    {\n      \"column\": \"imdb_id\",\n      \"properties\": {\n        \"dtype\": \"category\",\n        \"num_unique_values\": 9201,\n        \"samples\": [\n          \"tt5986716\",\n          \"tt1498567\"\n        ],\n        \"semantic_type\": \"\",\n        \"description\": \"\"\n      }\n    },\n    {\n      \"column\": \"imdb_score\",\n      \"properties\": {\n        \"dtype\": \"number\",\n        \"std\": 1.2995552290933285,\n        \"min\": 1.1,\n        \"max\": 9.9,\n        \"num_unique_values\": 86,\n        \"samples\": [\n          1.3,\n          8.6\n        ],\n        \"semantic_type\": \"\",\n        \"description\": \"\"\n      }\n    },\n    {\n      \"column\": \"imdb_votes\",\n      \"properties\": {\n        \"dtype\": \"number\",\n        \"std\": 55532.19974642026,\n        \"min\": 5.0,\n        \"max\": 1133692.0,\n        \"num_unique_values\": 3650,\n        \"samples\": [\n          23155.0,\n          95444.0\n        ],\n        \"semantic_type\": \"\",\n        \"description\": \"\"\n      }\n    },\n    {\n      \"column\": \"tmdb_popularity\",\n      \"properties\": {\n        \"dtype\": \"number\",\n        \"std\": 37.047589560722216,\n        \"min\": 1.1e-05,\n        \"max\": 1437.906,\n        \"num_unique_values\": 5325,\n        \"samples\": [\n          1.862,\n          22.778\n        ],\n        \"semantic_type\": \"\",\n        \"description\": \"\"\n      }\n    },\n    {\n      \"column\": \"tmdb_score\",\n      \"properties\": {\n        \"dtype\": \"number\",\n        \"std\": 1.419525363370741,\n        \"min\": 0.8,\n        \"max\": 10.0,\n        \"num_unique_values\": 89,\n        \"samples\": [\n          3.0,\n          1.0\n        ],\n        \"semantic_type\": \"\",\n        \"description\": \"\"\n      }\n    },\n    {\n      \"column\": \"person_id\",\n      \"properties\": {\n        \"dtype\": \"number\",\n        \"std\": 443926.06197410636,\n        \"min\": 11.0,\n        \"max\": 2367294.0,\n        \"num_unique_values\": 6639,\n        \"samples\": [\n          7036.0,\n          237800.0\n        ],\n        \"semantic_type\": \"\",\n        \"description\": \"\"\n      }\n    },\n    {\n      \"column\": \"name\",\n      \"properties\": {\n        \"dtype\": \"category\",\n        \"num_unique_values\": 6631,\n        \"samples\": [\n          \"Kazumi Evans\",\n          \"Daniel Henshall\"\n        ],\n        \"semantic_type\": \"\",\n        \"description\": \"\"\n      }\n    },\n    {\n      \"column\": \"character\",\n      \"properties\": {\n        \"dtype\": \"category\",\n        \"num_unique_values\": 6177,\n        \"samples\": [\n          \"Lt. Col. Hal Moore\",\n          \"John Woldring\"\n        ],\n        \"semantic_type\": \"\",\n        \"description\": \"\"\n      }\n    },\n    {\n      \"column\": \"role\",\n      \"properties\": {\n        \"dtype\": \"category\",\n        \"num_unique_values\": 2,\n        \"samples\": [\n          \"DIRECTOR\",\n          \"ACTOR\"\n        ],\n        \"semantic_type\": \"\",\n        \"description\": \"\"\n      }\n    }\n  ]\n}"
            }
          },
          "metadata": {},
          "execution_count": 12
        }
      ]
    },
    {
      "cell_type": "markdown",
      "source": [
        "#### Missing Values/Null Values"
      ],
      "metadata": {
        "id": "EDCYVFBjnsLw"
      }
    },
    {
      "cell_type": "code",
      "source": [
        "# Missing Values/Null Values Count of the Titles dataset\n",
        "\n",
        "count = merged_df.isnull().sum()\n"
      ],
      "metadata": {
        "id": "UuTFIeApnuTt"
      },
      "execution_count": null,
      "outputs": []
    },
    {
      "cell_type": "code",
      "source": [
        "count"
      ],
      "metadata": {
        "colab": {
          "base_uri": "https://localhost:8080/",
          "height": 679
        },
        "id": "bCTCospJrP6D",
        "outputId": "90793ed9-b2d8-48a5-e6fe-269384d506cc"
      },
      "execution_count": null,
      "outputs": [
        {
          "output_type": "execute_result",
          "data": {
            "text/plain": [
              "id                          0\n",
              "title                       0\n",
              "type                        0\n",
              "description               146\n",
              "release_year                0\n",
              "age_certification       14595\n",
              "runtime                     0\n",
              "genres                      0\n",
              "production_countries        0\n",
              "seasons                 22317\n",
              "imdb_id                   836\n",
              "imdb_score               1336\n",
              "imdb_votes               1348\n",
              "tmdb_popularity           801\n",
              "tmdb_score               3561\n",
              "person_id                1635\n",
              "name                     1635\n",
              "character                3457\n",
              "role                     1635\n",
              "dtype: int64"
            ],
            "text/html": [
              "<div>\n",
              "<style scoped>\n",
              "    .dataframe tbody tr th:only-of-type {\n",
              "        vertical-align: middle;\n",
              "    }\n",
              "\n",
              "    .dataframe tbody tr th {\n",
              "        vertical-align: top;\n",
              "    }\n",
              "\n",
              "    .dataframe thead th {\n",
              "        text-align: right;\n",
              "    }\n",
              "</style>\n",
              "<table border=\"1\" class=\"dataframe\">\n",
              "  <thead>\n",
              "    <tr style=\"text-align: right;\">\n",
              "      <th></th>\n",
              "      <th>0</th>\n",
              "    </tr>\n",
              "  </thead>\n",
              "  <tbody>\n",
              "    <tr>\n",
              "      <th>id</th>\n",
              "      <td>0</td>\n",
              "    </tr>\n",
              "    <tr>\n",
              "      <th>title</th>\n",
              "      <td>0</td>\n",
              "    </tr>\n",
              "    <tr>\n",
              "      <th>type</th>\n",
              "      <td>0</td>\n",
              "    </tr>\n",
              "    <tr>\n",
              "      <th>description</th>\n",
              "      <td>146</td>\n",
              "    </tr>\n",
              "    <tr>\n",
              "      <th>release_year</th>\n",
              "      <td>0</td>\n",
              "    </tr>\n",
              "    <tr>\n",
              "      <th>age_certification</th>\n",
              "      <td>14595</td>\n",
              "    </tr>\n",
              "    <tr>\n",
              "      <th>runtime</th>\n",
              "      <td>0</td>\n",
              "    </tr>\n",
              "    <tr>\n",
              "      <th>genres</th>\n",
              "      <td>0</td>\n",
              "    </tr>\n",
              "    <tr>\n",
              "      <th>production_countries</th>\n",
              "      <td>0</td>\n",
              "    </tr>\n",
              "    <tr>\n",
              "      <th>seasons</th>\n",
              "      <td>22317</td>\n",
              "    </tr>\n",
              "    <tr>\n",
              "      <th>imdb_id</th>\n",
              "      <td>836</td>\n",
              "    </tr>\n",
              "    <tr>\n",
              "      <th>imdb_score</th>\n",
              "      <td>1336</td>\n",
              "    </tr>\n",
              "    <tr>\n",
              "      <th>imdb_votes</th>\n",
              "      <td>1348</td>\n",
              "    </tr>\n",
              "    <tr>\n",
              "      <th>tmdb_popularity</th>\n",
              "      <td>801</td>\n",
              "    </tr>\n",
              "    <tr>\n",
              "      <th>tmdb_score</th>\n",
              "      <td>3561</td>\n",
              "    </tr>\n",
              "    <tr>\n",
              "      <th>person_id</th>\n",
              "      <td>1635</td>\n",
              "    </tr>\n",
              "    <tr>\n",
              "      <th>name</th>\n",
              "      <td>1635</td>\n",
              "    </tr>\n",
              "    <tr>\n",
              "      <th>character</th>\n",
              "      <td>3457</td>\n",
              "    </tr>\n",
              "    <tr>\n",
              "      <th>role</th>\n",
              "      <td>1635</td>\n",
              "    </tr>\n",
              "  </tbody>\n",
              "</table>\n",
              "</div><br><label><b>dtype:</b> int64</label>"
            ]
          },
          "metadata": {},
          "execution_count": 14
        }
      ]
    },
    {
      "cell_type": "code",
      "source": [
        "# Visualizing the missing values"
      ],
      "metadata": {
        "id": "6GCuId_kv9Hb"
      },
      "execution_count": null,
      "outputs": []
    },
    {
      "cell_type": "code",
      "source": [
        "missing_values_count = count[count > 0] # This code is used to filter out columns that have zero missing values\n",
        "missing_values_count = missing_values_count.sort_values(ascending=False)\n",
        "\n",
        "if not missing_values_count.empty:\n",
        "  plt.figure(figsize=(10,6))\n",
        "  sns.barplot(x=missing_values_count.index, y=missing_values_count.values, hue = missing_values_count.index, palette='Set2', legend=False)\n",
        "  plt.xlabel('Columns')\n",
        "  plt.ylabel('Number of Missing Values')\n",
        "  plt.title('Count of Missing Values')\n",
        "  plt.xticks(rotation=45)\n",
        "  plt.show()\n",
        "\n",
        "else:\n",
        "  print(\"No missing Values\")"
      ],
      "metadata": {
        "colab": {
          "base_uri": "https://localhost:8080/",
          "height": 642
        },
        "id": "OqwP4GCkgdR4",
        "outputId": "3236a3de-a647-40f1-b0c2-4fdb59624eb4"
      },
      "execution_count": null,
      "outputs": [
        {
          "output_type": "display_data",
          "data": {
            "text/plain": [
              "<Figure size 1000x600 with 1 Axes>"
            ],
            "image/png": "[encoded data removed]"
          },
          "metadata": {}
        }
      ]
    },
    {
      "cell_type": "markdown",
      "source": [
        "####Handling Missing Values"
      ],
      "metadata": {
        "id": "n8pysyTbzcAU"
      }
    },
    {
      "cell_type": "code",
      "source": [
        "# Handle 'description' column: Fill NaN with 'No Description'\n",
        "merged_df['description'] = merged_df['description'].fillna('No Description')\n",
        "\n",
        "# Handle 'age_certification' column: Fill NaN with 'Unknown'\n",
        "merged_df['age_certification'] =  merged_df['age_certification'].fillna('Unknown')\n",
        "\n",
        "# Handle 'seasons' column: Fill NaN with 0\n",
        "merged_df['seasons'] = merged_df['seasons'].fillna(0)\n",
        "\n",
        "# Handle 'imdb_id' column: Fill NaN with 'Unknown'\n",
        "merged_df['imdb_id'] = merged_df['imdb_id'].fillna('Unknown')\n",
        "\n",
        "# Handle 'person_id', name, role columns: Fill NaN with 'Not Available'\n",
        "merged_df['person_id'] = merged_df['person_id']. fillna('Not Available')\n",
        "merged_df['name'] = merged_df['name']. fillna('Not Available')\n",
        "merged_df['role'] = merged_df['role']. fillna('Not Available')\n",
        "merged_df['character'] = merged_df['character'].fillna('Not Applicable') # Because 'character' is only relevant for actors, not directors"
      ],
      "metadata": {
        "id": "NJUoftACzoJ9"
      },
      "execution_count": null,
      "outputs": []
    },
    {
      "cell_type": "code",
      "source": [
        "#Handle rating/popularity columns with median\n",
        "#Calculating median of each columns\n",
        "\n",
        "median_imdb_score = merged_df['imdb_score'].median()\n",
        "median_imdb_votes = merged_df['imdb_votes'].median()\n",
        "median_tmdb_popularity = merged_df['tmdb_popularity'].median()\n",
        "median_tmdb_score = merged_df['tmdb_score'].median()\n",
        "\n",
        "#Imputing with meddian value\n",
        "\n",
        "merged_df['imdb_score'] = merged_df['imdb_score'].fillna(median_imdb_score)\n",
        "merged_df['imdb_votes'] = merged_df['imdb_votes'].fillna(median_imdb_votes)\n",
        "merged_df['tmdb_popularity'] = merged_df['tmdb_popularity'].fillna(median_tmdb_popularity)\n",
        "merged_df['tmdb_score'] = merged_df['tmdb_score'].fillna(median_tmdb_score)"
      ],
      "metadata": {
        "id": "08PVPm3Kz6FE"
      },
      "execution_count": null,
      "outputs": []
    },
    {
      "cell_type": "code",
      "source": [
        "merged_df.info()"
      ],
      "metadata": {
        "colab": {
          "base_uri": "https://localhost:8080/"
        },
        "id": "2x5Kz1TKWlPh",
        "outputId": "7e9569c5-5efd-4f35-a686-da9e5c5ce6e4"
      },
      "execution_count": null,
      "outputs": [
        {
          "output_type": "stream",
          "name": "stdout",
          "text": [
            "<class 'pandas.core.frame.DataFrame'>\n",
            "Index: 25819 entries, 0 to 125353\n",
            "Data columns (total 19 columns):\n",
            " #   Column                Non-Null Count  Dtype  \n",
            "---  ------                --------------  -----  \n",
            " 0   id                    25819 non-null  object \n",
            " 1   title                 25819 non-null  object \n",
            " 2   type                  25819 non-null  object \n",
            " 3   description           25819 non-null  object \n",
            " 4   release_year          25819 non-null  int64  \n",
            " 5   age_certification     25819 non-null  object \n",
            " 6   runtime               25819 non-null  int64  \n",
            " 7   genres                25819 non-null  object \n",
            " 8   production_countries  25819 non-null  object \n",
            " 9   seasons               25819 non-null  float64\n",
            " 10  imdb_id               25819 non-null  object \n",
            " 11  imdb_score            25819 non-null  float64\n",
            " 12  imdb_votes            25819 non-null  float64\n",
            " 13  tmdb_popularity       25819 non-null  float64\n",
            " 14  tmdb_score            25819 non-null  float64\n",
            " 15  person_id             25819 non-null  object \n",
            " 16  name                  25819 non-null  object \n",
            " 17  character             25819 non-null  object \n",
            " 18  role                  25819 non-null  object \n",
            "dtypes: float64(5), int64(2), object(12)\n",
            "memory usage: 3.9+ MB\n"
          ]
        }
      ]
    },
    {
      "cell_type": "code",
      "source": [
        "print(\"\\nMissing values AFTER handling\")\n",
        "print(merged_df.isnull().sum())\n"
      ],
      "metadata": {
        "colab": {
          "base_uri": "https://localhost:8080/"
        },
        "id": "luTiK2cOz5kA",
        "outputId": "8b0c6056-505b-4157-9ff9-29954137d586"
      },
      "execution_count": null,
      "outputs": [
        {
          "output_type": "stream",
          "name": "stdout",
          "text": [
            "\n",
            "Missing values AFTER handling\n",
            "id                      0\n",
            "title                   0\n",
            "type                    0\n",
            "description             0\n",
            "release_year            0\n",
            "age_certification       0\n",
            "runtime                 0\n",
            "genres                  0\n",
            "production_countries    0\n",
            "seasons                 0\n",
            "imdb_id                 0\n",
            "imdb_score              0\n",
            "imdb_votes              0\n",
            "tmdb_popularity         0\n",
            "tmdb_score              0\n",
            "person_id               0\n",
            "name                    0\n",
            "character               0\n",
            "role                    0\n",
            "dtype: int64\n"
          ]
        }
      ]
    },
    {
      "cell_type": "markdown",
      "source": [
        "####Data Type Conversion\n"
      ],
      "metadata": {
        "id": "gggLvWqO0KH1"
      }
    },
    {
      "cell_type": "code",
      "source": [
        "merged_df = merged_df.astype({\n",
        "    'id': 'string',\n",
        "    'title': 'string',\n",
        "    'type': 'category',\n",
        "    'description': 'string',\n",
        "    'release_year': 'int16',\n",
        "    'age_certification': 'category',\n",
        "    'runtime': 'int16',\n",
        "    'genres': 'category',\n",
        "    'production_countries': 'string',\n",
        "    'seasons': 'Int16',\n",
        "    'imdb_id': 'string',\n",
        "    'imdb_score': 'float32',\n",
        "    'imdb_votes': 'float32',\n",
        "    'tmdb_popularity': 'float32',\n",
        "    'tmdb_score': 'float32',\n",
        "    'person_id': 'string',\n",
        "    'name': 'string',\n",
        "    'character': 'string',\n",
        "    'role': 'category'\n",
        "})"
      ],
      "metadata": {
        "id": "BHm4mSzI0Fgp"
      },
      "execution_count": null,
      "outputs": []
    },
    {
      "cell_type": "code",
      "source": [
        "#Displaying datatypes\n",
        "\n",
        "merged_df.dtypes"
      ],
      "metadata": {
        "colab": {
          "base_uri": "https://localhost:8080/",
          "height": 679
        },
        "id": "NdTP0wEZ0FAI",
        "outputId": "4e44bc71-db14-4e81-88e8-02564736c889"
      },
      "execution_count": null,
      "outputs": [
        {
          "output_type": "execute_result",
          "data": {
            "text/plain": [
              "id                      string[python]\n",
              "title                   string[python]\n",
              "type                          category\n",
              "description             string[python]\n",
              "release_year                     int16\n",
              "age_certification             category\n",
              "runtime                          int16\n",
              "genres                        category\n",
              "production_countries    string[python]\n",
              "seasons                          Int16\n",
              "imdb_id                 string[python]\n",
              "imdb_score                     float32\n",
              "imdb_votes                     float32\n",
              "tmdb_popularity                float32\n",
              "tmdb_score                     float32\n",
              "person_id               string[python]\n",
              "name                    string[python]\n",
              "character               string[python]\n",
              "role                          category\n",
              "dtype: object"
            ],
            "text/html": [
              "<div>\n",
              "<style scoped>\n",
              "    .dataframe tbody tr th:only-of-type {\n",
              "        vertical-align: middle;\n",
              "    }\n",
              "\n",
              "    .dataframe tbody tr th {\n",
              "        vertical-align: top;\n",
              "    }\n",
              "\n",
              "    .dataframe thead th {\n",
              "        text-align: right;\n",
              "    }\n",
              "</style>\n",
              "<table border=\"1\" class=\"dataframe\">\n",
              "  <thead>\n",
              "    <tr style=\"text-align: right;\">\n",
              "      <th></th>\n",
              "      <th>0</th>\n",
              "    </tr>\n",
              "  </thead>\n",
              "  <tbody>\n",
              "    <tr>\n",
              "      <th>id</th>\n",
              "      <td>string[python]</td>\n",
              "    </tr>\n",
              "    <tr>\n",
              "      <th>title</th>\n",
              "      <td>string[python]</td>\n",
              "    </tr>\n",
              "    <tr>\n",
              "      <th>type</th>\n",
              "      <td>category</td>\n",
              "    </tr>\n",
              "    <tr>\n",
              "      <th>description</th>\n",
              "      <td>string[python]</td>\n",
              "    </tr>\n",
              "    <tr>\n",
              "      <th>release_year</th>\n",
              "      <td>int16</td>\n",
              "    </tr>\n",
              "    <tr>\n",
              "      <th>age_certification</th>\n",
              "      <td>category</td>\n",
              "    </tr>\n",
              "    <tr>\n",
              "      <th>runtime</th>\n",
              "      <td>int16</td>\n",
              "    </tr>\n",
              "    <tr>\n",
              "      <th>genres</th>\n",
              "      <td>category</td>\n",
              "    </tr>\n",
              "    <tr>\n",
              "      <th>production_countries</th>\n",
              "      <td>string[python]</td>\n",
              "    </tr>\n",
              "    <tr>\n",
              "      <th>seasons</th>\n",
              "      <td>Int16</td>\n",
              "    </tr>\n",
              "    <tr>\n",
              "      <th>imdb_id</th>\n",
              "      <td>string[python]</td>\n",
              "    </tr>\n",
              "    <tr>\n",
              "      <th>imdb_score</th>\n",
              "      <td>float32</td>\n",
              "    </tr>\n",
              "    <tr>\n",
              "      <th>imdb_votes</th>\n",
              "      <td>float32</td>\n",
              "    </tr>\n",
              "    <tr>\n",
              "      <th>tmdb_popularity</th>\n",
              "      <td>float32</td>\n",
              "    </tr>\n",
              "    <tr>\n",
              "      <th>tmdb_score</th>\n",
              "      <td>float32</td>\n",
              "    </tr>\n",
              "    <tr>\n",
              "      <th>person_id</th>\n",
              "      <td>string[python]</td>\n",
              "    </tr>\n",
              "    <tr>\n",
              "      <th>name</th>\n",
              "      <td>string[python]</td>\n",
              "    </tr>\n",
              "    <tr>\n",
              "      <th>character</th>\n",
              "      <td>string[python]</td>\n",
              "    </tr>\n",
              "    <tr>\n",
              "      <th>role</th>\n",
              "      <td>category</td>\n",
              "    </tr>\n",
              "  </tbody>\n",
              "</table>\n",
              "</div><br><label><b>dtype:</b> object</label>"
            ]
          },
          "metadata": {},
          "execution_count": 22
        }
      ]
    },
    {
      "cell_type": "markdown",
      "source": [
        "### What did I know about my dataset?"
      ],
      "metadata": {
        "id": "CUfAv8o85PP9"
      }
    },
    {
      "cell_type": "markdown",
      "source": [
        "Answer -\n",
        "\n",
        "My dataset was all about TV shows and movies on Amazon Prime. It was actually two separate files that I combined.\n",
        "\n",
        "The merged dataset contains -\n",
        "\n",
        "The title of the show/movie\n",
        "\n",
        "A brief description When it was released\n",
        "\n",
        "Its age rating (like TV-MA or PG)\n",
        "\n",
        "Its genres (comedy, drama, etc.)\n",
        "\n",
        "Where it was produced\n",
        "\n",
        "IMDb and TMDB scores (how popular it was)\n",
        "\n",
        "And some info about the cast and crew.\n",
        "\n",
        "**What I found before digging deep:**\n",
        "\n",
        "Missing pieces: Some information, like descriptions or scores, was missing for certain titles.\n",
        "\n",
        "Duplicate values: There were a lot of duplicate entries, so I cleaned those out.\n",
        "\n",
        "Messy categories: Things like genres and production countries were listed in a way that made them hard to analyze, so I fixed that to make them easier to work with.\n",
        "\n",
        "**My main goals were to figure out:**\n",
        "\n",
        "What kind of content is most common?\n",
        "\n",
        "Which countries produce the most content?\n",
        "\n",
        "How has the content changed over the years?\n",
        "\n",
        "Which shows and movies are the most popular based on ratings?"
      ],
      "metadata": {
        "id": "9vOacIClte8t"
      }
    },
    {
      "cell_type": "markdown",
      "source": [
        "## ***2. Understanding the Variables***"
      ],
      "metadata": {
        "id": "_mbDlnPe5qmI"
      }
    },
    {
      "cell_type": "code",
      "source": [
        "# Displaying Dataset Columns"
      ],
      "metadata": {
        "id": "yXkh0CQ0gdoU"
      },
      "execution_count": null,
      "outputs": []
    },
    {
      "cell_type": "code",
      "source": [
        "merged_df.columns"
      ],
      "metadata": {
        "colab": {
          "base_uri": "https://localhost:8080/"
        },
        "id": "_g5hoSRJgdrQ",
        "outputId": "173ff634-5c93-46ce-f218-c592ec639105"
      },
      "execution_count": null,
      "outputs": [
        {
          "output_type": "execute_result",
          "data": {
            "text/plain": [
              "Index(['id', 'title', 'type', 'description', 'release_year',\n",
              "       'age_certification', 'runtime', 'genres', 'production_countries',\n",
              "       'seasons', 'imdb_id', 'imdb_score', 'imdb_votes', 'tmdb_popularity',\n",
              "       'tmdb_score', 'person_id', 'name', 'character', 'role'],\n",
              "      dtype='object')"
            ]
          },
          "metadata": {},
          "execution_count": 24
        }
      ]
    },
    {
      "cell_type": "code",
      "source": [
        "# Displaying Statistical Summary of Dataset"
      ],
      "metadata": {
        "id": "EwZw2CcYgdwt"
      },
      "execution_count": null,
      "outputs": []
    },
    {
      "cell_type": "code",
      "source": [
        "merged_df.describe()"
      ],
      "metadata": {
        "colab": {
          "base_uri": "https://localhost:8080/",
          "height": 300
        },
        "id": "mGq6A-2zgd0E",
        "outputId": "5c792530-bb43-4285-90e9-543aabe2ed51"
      },
      "execution_count": null,
      "outputs": [
        {
          "output_type": "execute_result",
          "data": {
            "text/plain": [
              "       release_year       runtime   seasons    imdb_score    imdb_votes  \\\n",
              "count  25819.000000  25819.000000   25819.0  25819.000000  2.581900e+04   \n",
              "mean    2000.428754     88.268910  0.432821      6.011747  1.248613e+04   \n",
              "std       25.610293     33.395277  1.951025      1.265641  5.413067e+04   \n",
              "min     1912.000000      1.000000       0.0      1.100000  5.000000e+00   \n",
              "25%     1994.000000     71.000000       0.0      5.300000  2.030000e+02   \n",
              "50%     2012.000000     90.000000       0.0      6.100000  8.540000e+02   \n",
              "75%     2018.000000    105.000000       0.0      6.900000  4.235000e+03   \n",
              "max     2022.000000    549.000000      51.0      9.900000  1.133692e+06   \n",
              "\n",
              "       tmdb_popularity    tmdb_score  \n",
              "count     25819.000000  25819.000000  \n",
              "mean          9.539377      6.054398  \n",
              "std          36.484329      1.318180  \n",
              "min           0.000011      0.800000  \n",
              "25%           1.641000      5.400000  \n",
              "50%           3.502000      6.100000  \n",
              "75%           7.931000      6.800000  \n",
              "max        1437.906006     10.000000  "
            ],
            "text/html": [
              "\n",
              "  <div id=\"df-74c953ab-128d-46a4-9c26-a9d69ca955dc\" class=\"colab-df-container\">\n",
              "    <div>\n",
              "<style scoped>\n",
              "    .dataframe tbody tr th:only-of-type {\n",
              "        vertical-align: middle;\n",
              "    }\n",
              "\n",
              "    .dataframe tbody tr th {\n",
              "        vertical-align: top;\n",
              "    }\n",
              "\n",
              "    .dataframe thead th {\n",
              "        text-align: right;\n",
              "    }\n",
              "</style>\n",
              "<table border=\"1\" class=\"dataframe\">\n",
              "  <thead>\n",
              "    <tr style=\"text-align: right;\">\n",
              "      <th></th>\n",
              "      <th>release_year</th>\n",
              "      <th>runtime</th>\n",
              "      <th>seasons</th>\n",
              "      <th>imdb_score</th>\n",
              "      <th>imdb_votes</th>\n",
              "      <th>tmdb_popularity</th>\n",
              "      <th>tmdb_score</th>\n",
              "    </tr>\n",
              "  </thead>\n",
              "  <tbody>\n",
              "    <tr>\n",
              "      <th>count</th>\n",
              "      <td>25819.000000</td>\n",
              "      <td>25819.000000</td>\n",
              "      <td>25819.0</td>\n",
              "      <td>25819.000000</td>\n",
              "      <td>2.581900e+04</td>\n",
              "      <td>25819.000000</td>\n",
              "      <td>25819.000000</td>\n",
              "    </tr>\n",
              "    <tr>\n",
              "      <th>mean</th>\n",
              "      <td>2000.428754</td>\n",
              "      <td>88.268910</td>\n",
              "      <td>0.432821</td>\n",
              "      <td>6.011747</td>\n",
              "      <td>1.248613e+04</td>\n",
              "      <td>9.539377</td>\n",
              "      <td>6.054398</td>\n",
              "    </tr>\n",
              "    <tr>\n",
              "      <th>std</th>\n",
              "      <td>25.610293</td>\n",
              "      <td>33.395277</td>\n",
              "      <td>1.951025</td>\n",
              "      <td>1.265641</td>\n",
              "      <td>5.413067e+04</td>\n",
              "      <td>36.484329</td>\n",
              "      <td>1.318180</td>\n",
              "    </tr>\n",
              "    <tr>\n",
              "      <th>min</th>\n",
              "      <td>1912.000000</td>\n",
              "      <td>1.000000</td>\n",
              "      <td>0.0</td>\n",
              "      <td>1.100000</td>\n",
              "      <td>5.000000e+00</td>\n",
              "      <td>0.000011</td>\n",
              "      <td>0.800000</td>\n",
              "    </tr>\n",
              "    <tr>\n",
              "      <th>25%</th>\n",
              "      <td>1994.000000</td>\n",
              "      <td>71.000000</td>\n",
              "      <td>0.0</td>\n",
              "      <td>5.300000</td>\n",
              "      <td>2.030000e+02</td>\n",
              "      <td>1.641000</td>\n",
              "      <td>5.400000</td>\n",
              "    </tr>\n",
              "    <tr>\n",
              "      <th>50%</th>\n",
              "      <td>2012.000000</td>\n",
              "      <td>90.000000</td>\n",
              "      <td>0.0</td>\n",
              "      <td>6.100000</td>\n",
              "      <td>8.540000e+02</td>\n",
              "      <td>3.502000</td>\n",
              "      <td>6.100000</td>\n",
              "    </tr>\n",
              "    <tr>\n",
              "      <th>75%</th>\n",
              "      <td>2018.000000</td>\n",
              "      <td>105.000000</td>\n",
              "      <td>0.0</td>\n",
              "      <td>6.900000</td>\n",
              "      <td>4.235000e+03</td>\n",
              "      <td>7.931000</td>\n",
              "      <td>6.800000</td>\n",
              "    </tr>\n",
              "    <tr>\n",
              "      <th>max</th>\n",
              "      <td>2022.000000</td>\n",
              "      <td>549.000000</td>\n",
              "      <td>51.0</td>\n",
              "      <td>9.900000</td>\n",
              "      <td>1.133692e+06</td>\n",
              "      <td>1437.906006</td>\n",
              "      <td>10.000000</td>\n",
              "    </tr>\n",
              "  </tbody>\n",
              "</table>\n",
              "</div>\n",
              "    <div class=\"colab-df-buttons\">\n",
              "\n",
              "  <div class=\"colab-df-container\">\n",
              "    <button class=\"colab-df-convert\" onclick=\"convertToInteractive('df-74c953ab-128d-46a4-9c26-a9d69ca955dc')\"\n",
              "            title=\"Convert this dataframe to an interactive table.\"\n",
              "            style=\"display:none;\">\n",
              "\n",
              "  <svg xmlns=\"http://www.w3.org/2000/svg\" height=\"24px\" viewBox=\"0 -960 960 960\">\n",
              "    <path d=\"M120-120v-720h720v720H120Zm60-500h600v-160H180v160Zm220 220h160v-160H400v160Zm0 220h160v-160H400v160ZM180-400h160v-160H180v160Zm440 0h160v-160H620v160ZM180-180h160v-160H180v160Zm440 0h160v-160H620v160Z\"/>\n",
              "  </svg>\n",
              "    </button>\n",
              "\n",
              "  <style>\n",
              "    .colab-df-container {\n",
              "      display:flex;\n",
              "      gap: 12px;\n",
              "    }\n",
              "\n",
              "    .colab-df-convert {\n",
              "      background-color: #E8F0FE;\n",
              "      border: none;\n",
              "      border-radius: 50%;\n",
              "      cursor: pointer;\n",
              "      display: none;\n",
              "      fill: #1967D2;\n",
              "      height: 32px;\n",
              "      padding: 0 0 0 0;\n",
              "      width: 32px;\n",
              "    }\n",
              "\n",
              "    .colab-df-convert:hover {\n",
              "      background-color: #E2EBFA;\n",
              "      box-shadow: 0px 1px 2px rgba(60, 64, 67, 0.3), 0px 1px 3px 1px rgba(60, 64, 67, 0.15);\n",
              "      fill: #174EA6;\n",
              "    }\n",
              "\n",
              "    .colab-df-buttons div {\n",
              "      margin-bottom: 4px;\n",
              "    }\n",
              "\n",
              "    [theme=dark] .colab-df-convert {\n",
              "      background-color: #3B4455;\n",
              "      fill: #D2E3FC;\n",
              "    }\n",
              "\n",
              "    [theme=dark] .colab-df-convert:hover {\n",
              "      background-color: #434B5C;\n",
              "      box-shadow: 0px 1px 3px 1px rgba(0, 0, 0, 0.15);\n",
              "      filter: drop-shadow(0px 1px 2px rgba(0, 0, 0, 0.3));\n",
              "      fill: #FFFFFF;\n",
              "    }\n",
              "  </style>\n",
              "\n",
              "    <script>\n",
              "      const buttonEl =\n",
              "        document.querySelector('#df-74c953ab-128d-46a4-9c26-a9d69ca955dc button.colab-df-convert');\n",
              "      buttonEl.style.display =\n",
              "        google.colab.kernel.accessAllowed ? 'block' : 'none';\n",
              "\n",
              "      async function convertToInteractive(key) {\n",
              "        const element = document.querySelector('#df-74c953ab-128d-46a4-9c26-a9d69ca955dc');\n",
              "        const dataTable =\n",
              "          await google.colab.kernel.invokeFunction('convertToInteractive',\n",
              "                                                    [key], {});\n",
              "        if (!dataTable) return;\n",
              "\n",
              "        const docLinkHtml = 'Like what you see? Visit the ' +\n",
              "          '<a target=\"_blank\" href=https://colab.research.google.com/notebooks/data_table.ipynb>data table notebook</a>'\n",
              "          + ' to learn more about interactive tables.';\n",
              "        element.innerHTML = '';\n",
              "        dataTable['output_type'] = 'display_data';\n",
              "        await google.colab.output.renderOutput(dataTable, element);\n",
              "        const docLink = document.createElement('div');\n",
              "        docLink.innerHTML = docLinkHtml;\n",
              "        element.appendChild(docLink);\n",
              "      }\n",
              "    </script>\n",
              "  </div>\n",
              "\n",
              "\n",
              "    <div id=\"df-cb4fe643-03dc-402b-84f4-9011d54d4f8a\">\n",
              "      <button class=\"colab-df-quickchart\" onclick=\"quickchart('df-cb4fe643-03dc-402b-84f4-9011d54d4f8a')\"\n",
              "                title=\"Suggest charts\"\n",
              "                style=\"display:none;\">\n",
              "\n",
              "<svg xmlns=\"http://www.w3.org/2000/svg\" height=\"24px\"viewBox=\"0 0 24 24\"\n",
              "     width=\"24px\">\n",
              "    <g>\n",
              "        <path d=\"M19 3H5c-1.1 0-2 .9-2 2v14c0 1.1.9 2 2 2h14c1.1 0 2-.9 2-2V5c0-1.1-.9-2-2-2zM9 17H7v-7h2v7zm4 0h-2V7h2v10zm4 0h-2v-4h2v4z\"/>\n",
              "    </g>\n",
              "</svg>\n",
              "      </button>\n",
              "\n",
              "<style>\n",
              "  .colab-df-quickchart {\n",
              "      --bg-color: #E8F0FE;\n",
              "      --fill-color: #1967D2;\n",
              "      --hover-bg-color: #E2EBFA;\n",
              "      --hover-fill-color: #174EA6;\n",
              "      --disabled-fill-color: #AAA;\n",
              "      --disabled-bg-color: #DDD;\n",
              "  }\n",
              "\n",
              "  [theme=dark] .colab-df-quickchart {\n",
              "      --bg-color: #3B4455;\n",
              "      --fill-color: #D2E3FC;\n",
              "      --hover-bg-color: #434B5C;\n",
              "      --hover-fill-color: #FFFFFF;\n",
              "      --disabled-bg-color: #3B4455;\n",
              "      --disabled-fill-color: #666;\n",
              "  }\n",
              "\n",
              "  .colab-df-quickchart {\n",
              "    background-color: var(--bg-color);\n",
              "    border: none;\n",
              "    border-radius: 50%;\n",
              "    cursor: pointer;\n",
              "    display: none;\n",
              "    fill: var(--fill-color);\n",
              "    height: 32px;\n",
              "    padding: 0;\n",
              "    width: 32px;\n",
              "  }\n",
              "\n",
              "  .colab-df-quickchart:hover {\n",
              "    background-color: var(--hover-bg-color);\n",
              "    box-shadow: 0 1px 2px rgba(60, 64, 67, 0.3), 0 1px 3px 1px rgba(60, 64, 67, 0.15);\n",
              "    fill: var(--button-hover-fill-color);\n",
              "  }\n",
              "\n",
              "  .colab-df-quickchart-complete:disabled,\n",
              "  .colab-df-quickchart-complete:disabled:hover {\n",
              "    background-color: var(--disabled-bg-color);\n",
              "    fill: var(--disabled-fill-color);\n",
              "    box-shadow: none;\n",
              "  }\n",
              "\n",
              "  .colab-df-spinner {\n",
              "    border: 2px solid var(--fill-color);\n",
              "    border-color: transparent;\n",
              "    border-bottom-color: var(--fill-color);\n",
              "    animation:\n",
              "      spin 1s steps(1) infinite;\n",
              "  }\n",
              "\n",
              "  @keyframes spin {\n",
              "    0% {\n",
              "      border-color: transparent;\n",
              "      border-bottom-color: var(--fill-color);\n",
              "      border-left-color: var(--fill-color);\n",
              "    }\n",
              "    20% {\n",
              "      border-color: transparent;\n",
              "      border-left-color: var(--fill-color);\n",
              "      border-top-color: var(--fill-color);\n",
              "    }\n",
              "    30% {\n",
              "      border-color: transparent;\n",
              "      border-left-color: var(--fill-color);\n",
              "      border-top-color: var(--fill-color);\n",
              "      border-right-color: var(--fill-color);\n",
              "    }\n",
              "    40% {\n",
              "      border-color: transparent;\n",
              "      border-right-color: var(--fill-color);\n",
              "      border-top-color: var(--fill-color);\n",
              "    }\n",
              "    60% {\n",
              "      border-color: transparent;\n",
              "      border-right-color: var(--fill-color);\n",
              "    }\n",
              "    80% {\n",
              "      border-color: transparent;\n",
              "      border-right-color: var(--fill-color);\n",
              "      border-bottom-color: var(--fill-color);\n",
              "    }\n",
              "    90% {\n",
              "      border-color: transparent;\n",
              "      border-bottom-color: var(--fill-color);\n",
              "    }\n",
              "  }\n",
              "</style>\n",
              "\n",
              "      <script>\n",
              "        async function quickchart(key) {\n",
              "          const quickchartButtonEl =\n",
              "            document.querySelector('#' + key + ' button');\n",
              "          quickchartButtonEl.disabled = true;  // To prevent multiple clicks.\n",
              "          quickchartButtonEl.classList.add('colab-df-spinner');\n",
              "          try {\n",
              "            const charts = await google.colab.kernel.invokeFunction(\n",
              "                'suggestCharts', [key], {});\n",
              "          } catch (error) {\n",
              "            console.error('Error during call to suggestCharts:', error);\n",
              "          }\n",
              "          quickchartButtonEl.classList.remove('colab-df-spinner');\n",
              "          quickchartButtonEl.classList.add('colab-df-quickchart-complete');\n",
              "        }\n",
              "        (() => {\n",
              "          let quickchartButtonEl =\n",
              "            document.querySelector('#df-cb4fe643-03dc-402b-84f4-9011d54d4f8a button');\n",
              "          quickchartButtonEl.style.display =\n",
              "            google.colab.kernel.accessAllowed ? 'block' : 'none';\n",
              "        })();\n",
              "      </script>\n",
              "    </div>\n",
              "\n",
              "    </div>\n",
              "  </div>\n"
            ],
            "application/vnd.google.colaboratory.intrinsic+json": {
              "type": "dataframe",
              "summary": "{\n  \"name\": \"merged_df\",\n  \"rows\": 8,\n  \"fields\": [\n    {\n      \"column\": \"release_year\",\n      \"properties\": {\n        \"dtype\": \"number\",\n        \"std\": 8550.94100031203,\n        \"min\": 25.61029326496867,\n        \"max\": 25819.0,\n        \"num_unique_values\": 8,\n        \"samples\": [\n          2000.4287540183586,\n          2012.0,\n          25819.0\n        ],\n        \"semantic_type\": \"\",\n        \"description\": \"\"\n      }\n    },\n    {\n      \"column\": \"runtime\",\n      \"properties\": {\n        \"dtype\": \"number\",\n        \"std\": 9082.678576253918,\n        \"min\": 1.0,\n        \"max\": 25819.0,\n        \"num_unique_values\": 8,\n        \"samples\": [\n          88.26891049227314,\n          90.0,\n          25819.0\n        ],\n        \"semantic_type\": \"\",\n        \"description\": \"\"\n      }\n    },\n    {\n      \"column\": \"seasons\",\n      \"properties\": {\n        \"dtype\": \"Float64\",\n        \"num_unique_values\": 5,\n        \"samples\": [\n          0.4328207908904295,\n          51.0,\n          1.951025477270845\n        ],\n        \"semantic_type\": \"\",\n        \"description\": \"\"\n      }\n    },\n    {\n      \"column\": \"imdb_score\",\n      \"properties\": {\n        \"dtype\": \"number\",\n        \"std\": 9126.548014431979,\n        \"min\": 1.100000023841858,\n        \"max\": 25819.0,\n        \"num_unique_values\": 8,\n        \"samples\": [\n          6.011746883392334,\n          6.099999904632568,\n          25819.0\n        ],\n        \"semantic_type\": \"\",\n        \"description\": \"\"\n      }\n    },\n    {\n      \"column\": \"imdb_votes\",\n      \"properties\": {\n        \"dtype\": \"number\",\n        \"std\": 396318.4198843605,\n        \"min\": 5.0,\n        \"max\": 1133692.0,\n        \"num_unique_values\": 8,\n        \"samples\": [\n          12486.134765625,\n          854.0,\n          25819.0\n        ],\n        \"semantic_type\": \"\",\n        \"description\": \"\"\n      }\n    },\n    {\n      \"column\": \"tmdb_popularity\",\n      \"properties\": {\n        \"dtype\": \"number\",\n        \"std\": 9066.57383088718,\n        \"min\": 1.1000000085914508e-05,\n        \"max\": 25819.0,\n        \"num_unique_values\": 8,\n        \"samples\": [\n          9.539377212524414,\n          3.502000093460083,\n          25819.0\n        ],\n        \"semantic_type\": \"\",\n        \"description\": \"\"\n      }\n    },\n    {\n      \"column\": \"tmdb_score\",\n      \"properties\": {\n        \"dtype\": \"number\",\n        \"std\": 9126.553330495046,\n        \"min\": 0.800000011920929,\n        \"max\": 25819.0,\n        \"num_unique_values\": 8,\n        \"samples\": [\n          6.054398059844971,\n          6.099999904632568,\n          25819.0\n        ],\n        \"semantic_type\": \"\",\n        \"description\": \"\"\n      }\n    }\n  ]\n}"
            }
          },
          "metadata": {},
          "execution_count": 26
        }
      ]
    },
    {
      "cell_type": "markdown",
      "source": [
        "### Variables Description"
      ],
      "metadata": {
        "id": "Nh8srWsq8hrB"
      }
    },
    {
      "cell_type": "markdown",
      "source": [
        "**id:** Unique identifier for each movie/TV show (String)\n",
        "\n",
        "**title:** Official name of the movie/TV show (String)\n",
        "\n",
        "**type:** Content category (Movie/Show) (Category)\n",
        "\n",
        "**description:** Brief plot summary (String)\n",
        "\n",
        "**release_year:** Year of release (Integer)\n",
        "\n",
        "**age_certification:** Age rating (Category)\n",
        "\n",
        "**runtime:** Duration in minutes (Integer)\n",
        "\n",
        "**genres:** List of associated genres (Category)\n",
        "\n",
        "**production_countries:** Lists the countries where the movie or show was produced (String)\n",
        "\n",
        "**seasons:** Shows the number of seasons for a TV show (movies will have this as empty or zero) (Integer)\n",
        "\n",
        "**imdb_id** The unique identifier for the movie or show on IMDb (String)\n",
        "\n",
        "**imdb_score:** The average rating given by users on IMDb, usually from 1 to 10 (Float)\n",
        "\n",
        "**imdb_votes:** The total number of votes received for the movie or show on IMDb (Float)\n",
        "\n",
        "**tmdb_popularity:** A score reflecting how popular the movie or show is on TMDB based on views, interactions, and trends (Float)\n",
        "\n",
        "**tmdb_score:** The average user rating of the movie or show on TMDB (Float)\n",
        "\n"
      ],
      "metadata": {
        "id": "DX7BZGRK8kfU"
      }
    },
    {
      "cell_type": "markdown",
      "source": [
        "**person_id:** Unique identifier for each person (String)\n",
        "\n",
        "**name:** Full name of the person (String)\n",
        "\n",
        "**character:** Name of character played (String)\n",
        "\n",
        "**role:** Primary role (Actor/Director) (Category)"
      ],
      "metadata": {
        "id": "piFcpDVZ8kER"
      }
    },
    {
      "cell_type": "markdown",
      "source": [
        "### Check Unique Values for each variable."
      ],
      "metadata": {
        "id": "IvxrJu8y_ZD3"
      }
    },
    {
      "cell_type": "code",
      "source": [
        "merged_df.nunique()"
      ],
      "metadata": {
        "id": "ovaDxn7o6xD-",
        "colab": {
          "base_uri": "https://localhost:8080/",
          "height": 679
        },
        "outputId": "9bfb6f83-735c-417a-c001-988253ad6a19"
      },
      "execution_count": null,
      "outputs": [
        {
          "output_type": "execute_result",
          "data": {
            "text/plain": [
              "id                      9868\n",
              "title                   9737\n",
              "type                       2\n",
              "description             9735\n",
              "release_year             110\n",
              "age_certification         12\n",
              "runtime                  207\n",
              "genres                    20\n",
              "production_countries     118\n",
              "seasons                   33\n",
              "imdb_id                 9202\n",
              "imdb_score                86\n",
              "imdb_votes              3650\n",
              "tmdb_popularity         5325\n",
              "tmdb_score                89\n",
              "person_id               6640\n",
              "name                    6632\n",
              "character               6178\n",
              "role                       3\n",
              "dtype: int64"
            ],
            "text/html": [
              "<div>\n",
              "<style scoped>\n",
              "    .dataframe tbody tr th:only-of-type {\n",
              "        vertical-align: middle;\n",
              "    }\n",
              "\n",
              "    .dataframe tbody tr th {\n",
              "        vertical-align: top;\n",
              "    }\n",
              "\n",
              "    .dataframe thead th {\n",
              "        text-align: right;\n",
              "    }\n",
              "</style>\n",
              "<table border=\"1\" class=\"dataframe\">\n",
              "  <thead>\n",
              "    <tr style=\"text-align: right;\">\n",
              "      <th></th>\n",
              "      <th>0</th>\n",
              "    </tr>\n",
              "  </thead>\n",
              "  <tbody>\n",
              "    <tr>\n",
              "      <th>id</th>\n",
              "      <td>9868</td>\n",
              "    </tr>\n",
              "    <tr>\n",
              "      <th>title</th>\n",
              "      <td>9737</td>\n",
              "    </tr>\n",
              "    <tr>\n",
              "      <th>type</th>\n",
              "      <td>2</td>\n",
              "    </tr>\n",
              "    <tr>\n",
              "      <th>description</th>\n",
              "      <td>9735</td>\n",
              "    </tr>\n",
              "    <tr>\n",
              "      <th>release_year</th>\n",
              "      <td>110</td>\n",
              "    </tr>\n",
              "    <tr>\n",
              "      <th>age_certification</th>\n",
              "      <td>12</td>\n",
              "    </tr>\n",
              "    <tr>\n",
              "      <th>runtime</th>\n",
              "      <td>207</td>\n",
              "    </tr>\n",
              "    <tr>\n",
              "      <th>genres</th>\n",
              "      <td>20</td>\n",
              "    </tr>\n",
              "    <tr>\n",
              "      <th>production_countries</th>\n",
              "      <td>118</td>\n",
              "    </tr>\n",
              "    <tr>\n",
              "      <th>seasons</th>\n",
              "      <td>33</td>\n",
              "    </tr>\n",
              "    <tr>\n",
              "      <th>imdb_id</th>\n",
              "      <td>9202</td>\n",
              "    </tr>\n",
              "    <tr>\n",
              "      <th>imdb_score</th>\n",
              "      <td>86</td>\n",
              "    </tr>\n",
              "    <tr>\n",
              "      <th>imdb_votes</th>\n",
              "      <td>3650</td>\n",
              "    </tr>\n",
              "    <tr>\n",
              "      <th>tmdb_popularity</th>\n",
              "      <td>5325</td>\n",
              "    </tr>\n",
              "    <tr>\n",
              "      <th>tmdb_score</th>\n",
              "      <td>89</td>\n",
              "    </tr>\n",
              "    <tr>\n",
              "      <th>person_id</th>\n",
              "      <td>6640</td>\n",
              "    </tr>\n",
              "    <tr>\n",
              "      <th>name</th>\n",
              "      <td>6632</td>\n",
              "    </tr>\n",
              "    <tr>\n",
              "      <th>character</th>\n",
              "      <td>6178</td>\n",
              "    </tr>\n",
              "    <tr>\n",
              "      <th>role</th>\n",
              "      <td>3</td>\n",
              "    </tr>\n",
              "  </tbody>\n",
              "</table>\n",
              "</div><br><label><b>dtype:</b> int64</label>"
            ]
          },
          "metadata": {},
          "execution_count": 27
        }
      ]
    },
    {
      "cell_type": "markdown",
      "source": [
        "## 3. ***Data Wrangling***"
      ],
      "metadata": {
        "id": "aZzIw_XKOkbA"
      }
    },
    {
      "cell_type": "markdown",
      "source": [
        "### Data Wrangling Code"
      ],
      "metadata": {
        "id": "NcHDxC6FOo6y"
      }
    },
    {
      "cell_type": "markdown",
      "source": [
        "####Handling Outliers"
      ],
      "metadata": {
        "id": "yanged969A_B"
      }
    },
    {
      "cell_type": "markdown",
      "source": [
        "####Finding Outliers Using Z-Score Method"
      ],
      "metadata": {
        "id": "qRFUHDC_-5be"
      }
    },
    {
      "cell_type": "code",
      "source": [
        "\n",
        "# List of columns to check for outliers\n",
        "cols = ['release_year', 'runtime', 'seasons', 'imdb_score', 'imdb_votes', 'tmdb_popularity', 'tmdb_score']\n",
        "\n",
        "#Finding the limit\n",
        "upper_limit = merged_df[cols]. mean() + 3*merged_df[cols].std()\n",
        "lower_limit = merged_df[cols]. mean() - 3*merged_df[cols].std()"
      ],
      "metadata": {
        "id": "Pk73O4om9-tY"
      },
      "execution_count": null,
      "outputs": []
    },
    {
      "cell_type": "code",
      "source": [
        "# Finding the outliers\n",
        "outlier_counts = {}\n",
        "for col in cols:\n",
        "    outlier_counts[col] = ((merged_df[col] > upper_limit[col]) | (merged_df[col] < lower_limit[col])).sum()\n",
        "\n",
        "total_rows = len(merged_df)\n",
        "\n",
        "for key, value in outlier_counts.items():\n",
        "    percentage = (value / total_rows) * 100\n",
        "    print(f\"{key}: {value}\\nPercentage: {percentage:.2f}%\\n\")\n"
      ],
      "metadata": {
        "colab": {
          "base_uri": "https://localhost:8080/"
        },
        "id": "8hWeOpBs-FmE",
        "outputId": "21fa16b3-b9e1-49e5-e3c8-0cceeedabad3"
      },
      "execution_count": null,
      "outputs": [
        {
          "output_type": "stream",
          "name": "stdout",
          "text": [
            "release_year: 86\n",
            "Percentage: 0.33%\n",
            "\n",
            "runtime: 73\n",
            "Percentage: 0.28%\n",
            "\n",
            "seasons: 326\n",
            "Percentage: 1.26%\n",
            "\n",
            "imdb_score: 123\n",
            "Percentage: 0.48%\n",
            "\n",
            "imdb_votes: 396\n",
            "Percentage: 1.53%\n",
            "\n",
            "tmdb_popularity: 218\n",
            "Percentage: 0.84%\n",
            "\n",
            "tmdb_score: 373\n",
            "Percentage: 1.44%\n",
            "\n"
          ]
        }
      ]
    },
    {
      "cell_type": "markdown",
      "source": [
        "####Why we Shouldn’t Remove Outliers\n",
        "\n",
        "release_year: Older or future-dated movies aren’t mistakes — they simply show variety in content.\n",
        "\n",
        "runtime:\tVery short or very long runtimes could be because of different types of shows, like short films or long documentaries.\n",
        "\n",
        "seasons: Some TV shows naturally have many seasons — that doesn’t mean they’re outliers. Additionally, it contains min value as 0 for movies not for tv shows.\n",
        "\n",
        "imdb_votes, popularity:\tIt’s normal for some shows or movies to get millions of votes or be super popular. Removing them would hide what people actually love.\n",
        "\n",
        "imdb_score, tmdb_score:\tA show rated 10 is probably excellent — taking it out would ignore the best-rated content."
      ],
      "metadata": {
        "id": "FXFji7omPaf6"
      }
    },
    {
      "cell_type": "markdown",
      "source": [
        "## ***4. Data Vizualization, Storytelling & Experimenting with charts : Understand the relationships between variables***"
      ],
      "metadata": {
        "id": "BRbFMPSEDX0O"
      }
    },
    {
      "cell_type": "markdown",
      "source": [
        "#### Chart - 1 Univariate Analysis"
      ],
      "metadata": {
        "id": "L9QV_lBkGBdg"
      }
    },
    {
      "cell_type": "markdown",
      "source": [
        "####Top Genres on Amazon Prime Video"
      ],
      "metadata": {
        "id": "zqzTBk-u8j1A"
      }
    },
    {
      "cell_type": "code",
      "source": [
        "import plotly.express as px\n",
        "\n",
        "# Filter out any potentially problematic genres\n",
        "valid_genres_df = merged_df[merged_df['genres'] != ''] # Example: remove empty strings\n",
        "valid_genres_df = valid_genres_df[valid_genres_df['genres'] != 'Not Available'] # Example: remove 'Not Available' if it exists\n",
        "\n",
        "#Checking Top 10 genre counts\n",
        "genre_counts = valid_genres_df['genres'].value_counts().head(10).reset_index()\n",
        "genre_counts.columns = ['genre', 'count']  # Renaming columns\n",
        "\n",
        "# Check the resulting genre_counts DataFrame before plotting\n",
        "print(\"\\nGenre counts for plotting:\")\n",
        "print(genre_counts)\n",
        "\n",
        "# Create treemap\n",
        "# Ensure the genre_counts DataFrame is not empty before plotting\n",
        "if not genre_counts.empty:\n",
        "    fig = px.treemap(\n",
        "        genre_counts,\n",
        "        path=['genre'],\n",
        "        values='count',\n",
        "        title=\"Top 10 Most Frequent Genres\",\n",
        "        color_continuous_scale='Reds'\n",
        "    )\n",
        "\n",
        "    fig.show()  # Display the plot\n",
        "else:\n",
        "    print(\"\\nGenre counts DataFrame is empty. Cannot create treemap.\")"
      ],
      "metadata": {
        "id": "PbACFsPFjhte",
        "colab": {
          "base_uri": "https://localhost:8080/",
          "height": 822
        },
        "outputId": "28a21ac7-ece0-4276-98c0-79db9ec7bd0a"
      },
      "execution_count": null,
      "outputs": [
        {
          "output_type": "stream",
          "name": "stdout",
          "text": [
            "\n",
            "Genre counts for plotting:\n",
            "           genre  count\n",
            "0          drama   5466\n",
            "1         comedy   3294\n",
            "2       thriller   2460\n",
            "3         action   2129\n",
            "4        romance   1952\n",
            "5          crime   1417\n",
            "6  documentation   1216\n",
            "7         horror   1183\n",
            "8       european   1170\n",
            "9         family    884\n"
          ]
        },
        {
          "output_type": "stream",
          "name": "stderr",
          "text": [
            "/usr/local/lib/python3.11/dist-packages/plotly/express/_core.py:1727: FutureWarning: The default of observed=False is deprecated and will be changed to True in a future version of pandas. Pass observed=False to retain current behavior or observed=True to adopt the future default and silence this warning.\n",
            "  dfg = df.groupby(path[i:]).agg(agg_f)\n"
          ]
        },
        {
          "output_type": "display_data",
          "data": {
            "text/html": [
              "<html>\n",
              "<head><meta charset=\"utf-8\" /></head>\n",
              "<body>\n",
              "    <div>            <script src=\"https://cdnjs.cloudflare.com/ajax/libs/mathjax/2.7.5/MathJax.js?config=TeX-AMS-MML_SVG\"></script><script type=\"text/javascript\">if (window.MathJax && window.MathJax.Hub && window.MathJax.Hub.Config) {window.MathJax.Hub.Config({SVG: {font: \"STIX-Web\"}});}</script>                <script type=\"text/javascript\">window.PlotlyConfig = {MathJaxConfig: 'local'};</script>\n",
              "        <script charset=\"utf-8\" src=\"https://cdn.plot.ly/plotly-2.35.2.min.js\"></script>                <div id=\"dd92d06d-6121-46ca-a985-e101c6954fdb\" class=\"plotly-graph-div\" style=\"height:525px; width:100%;\"></div>            <script type=\"text/javascript\">                                    window.PLOTLYENV=window.PLOTLYENV || {};                                    if (document.getElementById(\"dd92d06d-6121-46ca-a985-e101c6954fdb\")) {                    Plotly.newPlot(                        \"dd92d06d-6121-46ca-a985-e101c6954fdb\",                        [{\"branchvalues\":\"total\",\"domain\":{\"x\":[0.0,1.0],\"y\":[0.0,1.0]},\"hovertemplate\":\"labels=%{label}\\u003cbr\\u003ecount=%{value}\\u003cbr\\u003eparent=%{parent}\\u003cbr\\u003eid=%{id}\\u003cextra\\u003e\\u003c\\u002fextra\\u003e\",\"ids\":[\"\",\"action\",\"animation\",\"comedy\",\"crime\",\"documentation\",\"drama\",\"european\",\"family\",\"fantasy\",\"history\",\"horror\",\"music\",\"reality\",\"romance\",\"scifi\",\"sport\",\"thriller\",\"war\",\"western\"],\"labels\":[\"\",\"action\",\"animation\",\"comedy\",\"crime\",\"documentation\",\"drama\",\"european\",\"family\",\"fantasy\",\"history\",\"horror\",\"music\",\"reality\",\"romance\",\"scifi\",\"sport\",\"thriller\",\"war\",\"western\"],\"name\":\"\",\"parents\":[\"\",\"\",\"\",\"\",\"\",\"\",\"\",\"\",\"\",\"\",\"\",\"\",\"\",\"\",\"\",\"\",\"\",\"\",\"\",\"\"],\"values\":[0,2129,0,3294,1417,1216,5466,1170,884,0,0,1183,0,0,1952,0,0,2460,0,0],\"type\":\"treemap\"}],                        {\"template\":{\"data\":{\"histogram2dcontour\":[{\"type\":\"histogram2dcontour\",\"colorbar\":{\"outlinewidth\":0,\"ticks\":\"\"},\"colorscale\":[[0.0,\"#0d0887\"],[0.1111111111111111,\"#46039f\"],[0.2222222222222222,\"#7201a8\"],[0.3333333333333333,\"#9c179e\"],[0.4444444444444444,\"#bd3786\"],[0.5555555555555556,\"#d8576b\"],[0.6666666666666666,\"#ed7953\"],[0.7777777777777778,\"#fb9f3a\"],[0.8888888888888888,\"#fdca26\"],[1.0,\"#f0f921\"]]}],\"choropleth\":[{\"type\":\"choropleth\",\"colorbar\":{\"outlinewidth\":0,\"ticks\":\"\"}}],\"histogram2d\":[{\"type\":\"histogram2d\",\"colorbar\":{\"outlinewidth\":0,\"ticks\":\"\"},\"colorscale\":[[0.0,\"#0d0887\"],[0.1111111111111111,\"#46039f\"],[0.2222222222222222,\"#7201a8\"],[0.3333333333333333,\"#9c179e\"],[0.4444444444444444,\"#bd3786\"],[0.5555555555555556,\"#d8576b\"],[0.6666666666666666,\"#ed7953\"],[0.7777777777777778,\"#fb9f3a\"],[0.8888888888888888,\"#fdca26\"],[1.0,\"#f0f921\"]]}],\"heatmap\":[{\"type\":\"heatmap\",\"colorbar\":{\"outlinewidth\":0,\"ticks\":\"\"},\"colorscale\":[[0.0,\"#0d0887\"],[0.1111111111111111,\"#46039f\"],[0.2222222222222222,\"#7201a8\"],[0.3333333333333333,\"#9c179e\"],[0.4444444444444444,\"#bd3786\"],[0.5555555555555556,\"#d8576b\"],[0.6666666666666666,\"#ed7953\"],[0.7777777777777778,\"#fb9f3a\"],[0.8888888888888888,\"#fdca26\"],[1.0,\"#f0f921\"]]}],\"heatmapgl\":[{\"type\":\"heatmapgl\",\"colorbar\":{\"outlinewidth\":0,\"ticks\":\"\"},\"colorscale\":[[0.0,\"#0d0887\"],[0.1111111111111111,\"#46039f\"],[0.2222222222222222,\"#7201a8\"],[0.3333333333333333,\"#9c179e\"],[0.4444444444444444,\"#bd3786\"],[0.5555555555555556,\"#d8576b\"],[0.6666666666666666,\"#ed7953\"],[0.7777777777777778,\"#fb9f3a\"],[0.8888888888888888,\"#fdca26\"],[1.0,\"#f0f921\"]]}],\"contourcarpet\":[{\"type\":\"contourcarpet\",\"colorbar\":{\"outlinewidth\":0,\"ticks\":\"\"}}],\"contour\":[{\"type\":\"contour\",\"colorbar\":{\"outlinewidth\":0,\"ticks\":\"\"},\"colorscale\":[[0.0,\"#0d0887\"],[0.1111111111111111,\"#46039f\"],[0.2222222222222222,\"#7201a8\"],[0.3333333333333333,\"#9c179e\"],[0.4444444444444444,\"#bd3786\"],[0.5555555555555556,\"#d8576b\"],[0.6666666666666666,\"#ed7953\"],[0.7777777777777778,\"#fb9f3a\"],[0.8888888888888888,\"#fdca26\"],[1.0,\"#f0f921\"]]}],\"surface\":[{\"type\":\"surface\",\"colorbar\":{\"outlinewidth\":0,\"ticks\":\"\"},\"colorscale\":[[0.0,\"#0d0887\"],[0.1111111111111111,\"#46039f\"],[0.2222222222222222,\"#7201a8\"],[0.3333333333333333,\"#9c179e\"],[0.4444444444444444,\"#bd3786\"],[0.5555555555555556,\"#d8576b\"],[0.6666666666666666,\"#ed7953\"],[0.7777777777777778,\"#fb9f3a\"],[0.8888888888888888,\"#fdca26\"],[1.0,\"#f0f921\"]]}],\"mesh3d\":[{\"type\":\"mesh3d\",\"colorbar\":{\"outlinewidth\":0,\"ticks\":\"\"}}],\"scatter\":[{\"fillpattern\":{\"fillmode\":\"overlay\",\"size\":10,\"solidity\":0.2},\"type\":\"scatter\"}],\"parcoords\":[{\"type\":\"parcoords\",\"line\":{\"colorbar\":{\"outlinewidth\":0,\"ticks\":\"\"}}}],\"scatterpolargl\":[{\"type\":\"scatterpolargl\",\"marker\":{\"colorbar\":{\"outlinewidth\":0,\"ticks\":\"\"}}}],\"bar\":[{\"error_x\":{\"color\":\"#2a3f5f\"},\"error_y\":{\"color\":\"#2a3f5f\"},\"marker\":{\"line\":{\"color\":\"#E5ECF6\",\"width\":0.5},\"pattern\":{\"fillmode\":\"overlay\",\"size\":10,\"solidity\":0.2}},\"type\":\"bar\"}],\"scattergeo\":[{\"type\":\"scattergeo\",\"marker\":{\"colorbar\":{\"outlinewidth\":0,\"ticks\":\"\"}}}],\"scatterpolar\":[{\"type\":\"scatterpolar\",\"marker\":{\"colorbar\":{\"outlinewidth\":0,\"ticks\":\"\"}}}],\"histogram\":[{\"marker\":{\"pattern\":{\"fillmode\":\"overlay\",\"size\":10,\"solidity\":0.2}},\"type\":\"histogram\"}],\"scattergl\":[{\"type\":\"scattergl\",\"marker\":{\"colorbar\":{\"outlinewidth\":0,\"ticks\":\"\"}}}],\"scatter3d\":[{\"type\":\"scatter3d\",\"line\":{\"colorbar\":{\"outlinewidth\":0,\"ticks\":\"\"}},\"marker\":{\"colorbar\":{\"outlinewidth\":0,\"ticks\":\"\"}}}],\"scattermapbox\":[{\"type\":\"scattermapbox\",\"marker\":{\"colorbar\":{\"outlinewidth\":0,\"ticks\":\"\"}}}],\"scatterternary\":[{\"type\":\"scatterternary\",\"marker\":{\"colorbar\":{\"outlinewidth\":0,\"ticks\":\"\"}}}],\"scattercarpet\":[{\"type\":\"scattercarpet\",\"marker\":{\"colorbar\":{\"outlinewidth\":0,\"ticks\":\"\"}}}],\"carpet\":[{\"aaxis\":{\"endlinecolor\":\"#2a3f5f\",\"gridcolor\":\"white\",\"linecolor\":\"white\",\"minorgridcolor\":\"white\",\"startlinecolor\":\"#2a3f5f\"},\"baxis\":{\"endlinecolor\":\"#2a3f5f\",\"gridcolor\":\"white\",\"linecolor\":\"white\",\"minorgridcolor\":\"white\",\"startlinecolor\":\"#2a3f5f\"},\"type\":\"carpet\"}],\"table\":[{\"cells\":{\"fill\":{\"color\":\"#EBF0F8\"},\"line\":{\"color\":\"white\"}},\"header\":{\"fill\":{\"color\":\"#C8D4E3\"},\"line\":{\"color\":\"white\"}},\"type\":\"table\"}],\"barpolar\":[{\"marker\":{\"line\":{\"color\":\"#E5ECF6\",\"width\":0.5},\"pattern\":{\"fillmode\":\"overlay\",\"size\":10,\"solidity\":0.2}},\"type\":\"barpolar\"}],\"pie\":[{\"automargin\":true,\"type\":\"pie\"}]},\"layout\":{\"autotypenumbers\":\"strict\",\"colorway\":[\"#636efa\",\"#EF553B\",\"#00cc96\",\"#ab63fa\",\"#FFA15A\",\"#19d3f3\",\"#FF6692\",\"#B6E880\",\"#FF97FF\",\"#FECB52\"],\"font\":{\"color\":\"#2a3f5f\"},\"hovermode\":\"closest\",\"hoverlabel\":{\"align\":\"left\"},\"paper_bgcolor\":\"white\",\"plot_bgcolor\":\"#E5ECF6\",\"polar\":{\"bgcolor\":\"#E5ECF6\",\"angularaxis\":{\"gridcolor\":\"white\",\"linecolor\":\"white\",\"ticks\":\"\"},\"radialaxis\":{\"gridcolor\":\"white\",\"linecolor\":\"white\",\"ticks\":\"\"}},\"ternary\":{\"bgcolor\":\"#E5ECF6\",\"aaxis\":{\"gridcolor\":\"white\",\"linecolor\":\"white\",\"ticks\":\"\"},\"baxis\":{\"gridcolor\":\"white\",\"linecolor\":\"white\",\"ticks\":\"\"},\"caxis\":{\"gridcolor\":\"white\",\"linecolor\":\"white\",\"ticks\":\"\"}},\"coloraxis\":{\"colorbar\":{\"outlinewidth\":0,\"ticks\":\"\"}},\"colorscale\":{\"sequential\":[[0.0,\"#0d0887\"],[0.1111111111111111,\"#46039f\"],[0.2222222222222222,\"#7201a8\"],[0.3333333333333333,\"#9c179e\"],[0.4444444444444444,\"#bd3786\"],[0.5555555555555556,\"#d8576b\"],[0.6666666666666666,\"#ed7953\"],[0.7777777777777778,\"#fb9f3a\"],[0.8888888888888888,\"#fdca26\"],[1.0,\"#f0f921\"]],\"sequentialminus\":[[0.0,\"#0d0887\"],[0.1111111111111111,\"#46039f\"],[0.2222222222222222,\"#7201a8\"],[0.3333333333333333,\"#9c179e\"],[0.4444444444444444,\"#bd3786\"],[0.5555555555555556,\"#d8576b\"],[0.6666666666666666,\"#ed7953\"],[0.7777777777777778,\"#fb9f3a\"],[0.8888888888888888,\"#fdca26\"],[1.0,\"#f0f921\"]],\"diverging\":[[0,\"#8e0152\"],[0.1,\"#c51b7d\"],[0.2,\"#de77ae\"],[0.3,\"#f1b6da\"],[0.4,\"#fde0ef\"],[0.5,\"#f7f7f7\"],[0.6,\"#e6f5d0\"],[0.7,\"#b8e186\"],[0.8,\"#7fbc41\"],[0.9,\"#4d9221\"],[1,\"#276419\"]]},\"xaxis\":{\"gridcolor\":\"white\",\"linecolor\":\"white\",\"ticks\":\"\",\"title\":{\"standoff\":15},\"zerolinecolor\":\"white\",\"automargin\":true,\"zerolinewidth\":2},\"yaxis\":{\"gridcolor\":\"white\",\"linecolor\":\"white\",\"ticks\":\"\",\"title\":{\"standoff\":15},\"zerolinecolor\":\"white\",\"automargin\":true,\"zerolinewidth\":2},\"scene\":{\"xaxis\":{\"backgroundcolor\":\"#E5ECF6\",\"gridcolor\":\"white\",\"linecolor\":\"white\",\"showbackground\":true,\"ticks\":\"\",\"zerolinecolor\":\"white\",\"gridwidth\":2},\"yaxis\":{\"backgroundcolor\":\"#E5ECF6\",\"gridcolor\":\"white\",\"linecolor\":\"white\",\"showbackground\":true,\"ticks\":\"\",\"zerolinecolor\":\"white\",\"gridwidth\":2},\"zaxis\":{\"backgroundcolor\":\"#E5ECF6\",\"gridcolor\":\"white\",\"linecolor\":\"white\",\"showbackground\":true,\"ticks\":\"\",\"zerolinecolor\":\"white\",\"gridwidth\":2}},\"shapedefaults\":{\"line\":{\"color\":\"#2a3f5f\"}},\"annotationdefaults\":{\"arrowcolor\":\"#2a3f5f\",\"arrowhead\":0,\"arrowwidth\":1},\"geo\":{\"bgcolor\":\"white\",\"landcolor\":\"#E5ECF6\",\"subunitcolor\":\"white\",\"showland\":true,\"showlakes\":true,\"lakecolor\":\"white\"},\"title\":{\"x\":0.05},\"mapbox\":{\"style\":\"light\"}}},\"legend\":{\"tracegroupgap\":0},\"title\":{\"text\":\"Top 10 Most Frequent Genres\"}},                        {\"responsive\": true}                    ).then(function(){\n",
              "                            \n",
              "var gd = document.getElementById('dd92d06d-6121-46ca-a985-e101c6954fdb');\n",
              "var x = new MutationObserver(function (mutations, observer) {{\n",
              "        var display = window.getComputedStyle(gd).display;\n",
              "        if (!display || display === 'none') {{\n",
              "            console.log([gd, 'removed!']);\n",
              "            Plotly.purge(gd);\n",
              "            observer.disconnect();\n",
              "        }}\n",
              "}});\n",
              "\n",
              "// Listen for the removal of the full notebook cells\n",
              "var notebookContainer = gd.closest('#notebook-container');\n",
              "if (notebookContainer) {{\n",
              "    x.observe(notebookContainer, {childList: true});\n",
              "}}\n",
              "\n",
              "// Listen for the clearing of the current output cell\n",
              "var outputEl = gd.closest('.output');\n",
              "if (outputEl) {{\n",
              "    x.observe(outputEl, {childList: true});\n",
              "}}\n",
              "\n",
              "                        })                };                            </script>        </div>\n",
              "</body>\n",
              "</html>"
            ]
          },
          "metadata": {}
        }
      ]
    },
    {
      "cell_type": "markdown",
      "source": [
        "##### 1. Why did I pick the specific chart?"
      ],
      "metadata": {
        "id": "BRVcUXn1mhAl"
      }
    },
    {
      "cell_type": "markdown",
      "source": [
        "Answer -\n",
        "\n",
        "I chose a treemap chart because it’s a great way to visually compare the size of each genre. It shows which genres are most and least common at a glance."
      ],
      "metadata": {
        "id": "k4EOda0umhl9"
      }
    },
    {
      "cell_type": "markdown",
      "source": [
        "##### 2. What are the insights found from the chart?"
      ],
      "metadata": {
        "id": "0LnUT5WLmiC-"
      }
    },
    {
      "cell_type": "markdown",
      "source": [
        "Answer -\n",
        "\n",
        "Drama is the most available genre on Amazon Prime.\n",
        "\n",
        "Other popular genres include Comedy, Thriller, Action, and Romance.\n",
        "\n",
        "Genres like Family, European, and Documentation have much less content.\n",
        "\n"
      ],
      "metadata": {
        "id": "Gr2ezlRnm5Zq"
      }
    },
    {
      "cell_type": "markdown",
      "source": [
        "##### 3. Will the gained insights help creating a positive business impact?\n",
        "Are there any insights that lead to negative growth? Justify with specific reason."
      ],
      "metadata": {
        "id": "gM4tWIEFm5sa"
      }
    },
    {
      "cell_type": "markdown",
      "source": [
        "Answer -\n",
        "\n",
        "Yes, definitely.\n",
        "\n",
        "Focus more on popular genres like Drama and Comedy to boost engagement.\n",
        "\n",
        "Add more content in underrepresented genres to reach a wider audience.\n",
        "\n",
        "\n",
        "#####Negative Impact\n",
        "\n",
        "Some genres like Family and Documentary have very few titles on Prime Video. This could be a problem because:\n",
        "\n",
        "Viewers who love these genres might not find enough content and look elsewhere.\n",
        "\n",
        "Fans of documentaries might prefer services like Netflix, which have a bigger selection.\n",
        "\n",
        "Fewer choices mean less engagement, and some users may cancel subscriptions.To fix this, Amazon could add more content."
      ],
      "metadata": {
        "id": "SxgokP8dnIrW"
      }
    },
    {
      "cell_type": "markdown",
      "source": [
        "#### Chart - 2 Univariate Analysis"
      ],
      "metadata": {
        "id": "d_3T2XrRtw81"
      }
    },
    {
      "cell_type": "markdown",
      "source": [
        "####Content Availability by Country on Amazon Prime Video"
      ],
      "metadata": {
        "id": "lNlRHNFO-8Fa"
      }
    },
    {
      "cell_type": "code",
      "source": [
        "\n",
        "# Filter out any potentially problematic countries before getting the top 10\n",
        "valid_production_countries_df = merged_df[merged_df['production_countries'] != ''] # Example: remove empty strings\n",
        "\n",
        "# Example: remove 'Not Available' if it exists\n",
        "valid_production_countries_df = valid_production_countries_df[valid_production_countries_df['production_countries'] != 'Not Available']\n",
        "\n",
        "country_counts= valid_production_countries_df['production_countries'].value_counts().head(10).reset_index()\n",
        "country_counts.columns = ['country', 'count']  # Renaming columns\n",
        "\n",
        "# Check the resulting genre_counts DataFrame before plotting\n",
        "print(\"\\nCountry counts for plotting:\")\n",
        "print(country_counts)\n",
        "\n",
        "# Create treemap with correct column name\n",
        "# Ensure the genre_counts DataFrame is not empty before plotting\n",
        "if not country_counts.empty:\n",
        "    fig = px.treemap(\n",
        "        country_counts,\n",
        "        path=['country'],\n",
        "        values='count',\n",
        "        title=\"Top 10 Popular Countries\",\n",
        "        color_continuous_scale='Reds'\n",
        "    )\n",
        "    fig.show()  # Display the plot\n",
        "else:\n",
        "    print(\"\\nCountry counts DataFrame is empty. Cannot create treemap.\")\n"
      ],
      "metadata": {
        "id": "Xev1IfYmjhxL",
        "colab": {
          "base_uri": "https://localhost:8080/",
          "height": 768
        },
        "outputId": "db6aa5c8-85c3-431c-d628-be082a792d2c"
      },
      "execution_count": null,
      "outputs": [
        {
          "output_type": "stream",
          "name": "stdout",
          "text": [
            "\n",
            "Country counts for plotting:\n",
            "  country  count\n",
            "0      US  12300\n",
            "1      IN   2384\n",
            "2      GB   2212\n",
            "3      CA   1294\n",
            "4      FR    807\n",
            "5      JP    642\n",
            "6      DE    491\n",
            "7      IT    412\n",
            "8      AU    393\n",
            "9      CN    361\n"
          ]
        },
        {
          "output_type": "display_data",
          "data": {
            "text/html": [
              "<html>\n",
              "<head><meta charset=\"utf-8\" /></head>\n",
              "<body>\n",
              "    <div>            <script src=\"https://cdnjs.cloudflare.com/ajax/libs/mathjax/2.7.5/MathJax.js?config=TeX-AMS-MML_SVG\"></script><script type=\"text/javascript\">if (window.MathJax && window.MathJax.Hub && window.MathJax.Hub.Config) {window.MathJax.Hub.Config({SVG: {font: \"STIX-Web\"}});}</script>                <script type=\"text/javascript\">window.PlotlyConfig = {MathJaxConfig: 'local'};</script>\n",
              "        <script charset=\"utf-8\" src=\"https://cdn.plot.ly/plotly-2.35.2.min.js\"></script>                <div id=\"00a8637b-9d78-4f7b-97a1-791c94492b69\" class=\"plotly-graph-div\" style=\"height:525px; width:100%;\"></div>            <script type=\"text/javascript\">                                    window.PLOTLYENV=window.PLOTLYENV || {};                                    if (document.getElementById(\"00a8637b-9d78-4f7b-97a1-791c94492b69\")) {                    Plotly.newPlot(                        \"00a8637b-9d78-4f7b-97a1-791c94492b69\",                        [{\"branchvalues\":\"total\",\"domain\":{\"x\":[0.0,1.0],\"y\":[0.0,1.0]},\"hovertemplate\":\"labels=%{label}\\u003cbr\\u003ecount=%{value}\\u003cbr\\u003eparent=%{parent}\\u003cbr\\u003eid=%{id}\\u003cextra\\u003e\\u003c\\u002fextra\\u003e\",\"ids\":[\"AU\",\"CA\",\"CN\",\"DE\",\"FR\",\"GB\",\"IN\",\"IT\",\"JP\",\"US\"],\"labels\":[\"AU\",\"CA\",\"CN\",\"DE\",\"FR\",\"GB\",\"IN\",\"IT\",\"JP\",\"US\"],\"name\":\"\",\"parents\":[\"\",\"\",\"\",\"\",\"\",\"\",\"\",\"\",\"\",\"\"],\"values\":[393,1294,361,491,807,2212,2384,412,642,12300],\"type\":\"treemap\"}],                        {\"template\":{\"data\":{\"histogram2dcontour\":[{\"type\":\"histogram2dcontour\",\"colorbar\":{\"outlinewidth\":0,\"ticks\":\"\"},\"colorscale\":[[0.0,\"#0d0887\"],[0.1111111111111111,\"#46039f\"],[0.2222222222222222,\"#7201a8\"],[0.3333333333333333,\"#9c179e\"],[0.4444444444444444,\"#bd3786\"],[0.5555555555555556,\"#d8576b\"],[0.6666666666666666,\"#ed7953\"],[0.7777777777777778,\"#fb9f3a\"],[0.8888888888888888,\"#fdca26\"],[1.0,\"#f0f921\"]]}],\"choropleth\":[{\"type\":\"choropleth\",\"colorbar\":{\"outlinewidth\":0,\"ticks\":\"\"}}],\"histogram2d\":[{\"type\":\"histogram2d\",\"colorbar\":{\"outlinewidth\":0,\"ticks\":\"\"},\"colorscale\":[[0.0,\"#0d0887\"],[0.1111111111111111,\"#46039f\"],[0.2222222222222222,\"#7201a8\"],[0.3333333333333333,\"#9c179e\"],[0.4444444444444444,\"#bd3786\"],[0.5555555555555556,\"#d8576b\"],[0.6666666666666666,\"#ed7953\"],[0.7777777777777778,\"#fb9f3a\"],[0.8888888888888888,\"#fdca26\"],[1.0,\"#f0f921\"]]}],\"heatmap\":[{\"type\":\"heatmap\",\"colorbar\":{\"outlinewidth\":0,\"ticks\":\"\"},\"colorscale\":[[0.0,\"#0d0887\"],[0.1111111111111111,\"#46039f\"],[0.2222222222222222,\"#7201a8\"],[0.3333333333333333,\"#9c179e\"],[0.4444444444444444,\"#bd3786\"],[0.5555555555555556,\"#d8576b\"],[0.6666666666666666,\"#ed7953\"],[0.7777777777777778,\"#fb9f3a\"],[0.8888888888888888,\"#fdca26\"],[1.0,\"#f0f921\"]]}],\"heatmapgl\":[{\"type\":\"heatmapgl\",\"colorbar\":{\"outlinewidth\":0,\"ticks\":\"\"},\"colorscale\":[[0.0,\"#0d0887\"],[0.1111111111111111,\"#46039f\"],[0.2222222222222222,\"#7201a8\"],[0.3333333333333333,\"#9c179e\"],[0.4444444444444444,\"#bd3786\"],[0.5555555555555556,\"#d8576b\"],[0.6666666666666666,\"#ed7953\"],[0.7777777777777778,\"#fb9f3a\"],[0.8888888888888888,\"#fdca26\"],[1.0,\"#f0f921\"]]}],\"contourcarpet\":[{\"type\":\"contourcarpet\",\"colorbar\":{\"outlinewidth\":0,\"ticks\":\"\"}}],\"contour\":[{\"type\":\"contour\",\"colorbar\":{\"outlinewidth\":0,\"ticks\":\"\"},\"colorscale\":[[0.0,\"#0d0887\"],[0.1111111111111111,\"#46039f\"],[0.2222222222222222,\"#7201a8\"],[0.3333333333333333,\"#9c179e\"],[0.4444444444444444,\"#bd3786\"],[0.5555555555555556,\"#d8576b\"],[0.6666666666666666,\"#ed7953\"],[0.7777777777777778,\"#fb9f3a\"],[0.8888888888888888,\"#fdca26\"],[1.0,\"#f0f921\"]]}],\"surface\":[{\"type\":\"surface\",\"colorbar\":{\"outlinewidth\":0,\"ticks\":\"\"},\"colorscale\":[[0.0,\"#0d0887\"],[0.1111111111111111,\"#46039f\"],[0.2222222222222222,\"#7201a8\"],[0.3333333333333333,\"#9c179e\"],[0.4444444444444444,\"#bd3786\"],[0.5555555555555556,\"#d8576b\"],[0.6666666666666666,\"#ed7953\"],[0.7777777777777778,\"#fb9f3a\"],[0.8888888888888888,\"#fdca26\"],[1.0,\"#f0f921\"]]}],\"mesh3d\":[{\"type\":\"mesh3d\",\"colorbar\":{\"outlinewidth\":0,\"ticks\":\"\"}}],\"scatter\":[{\"fillpattern\":{\"fillmode\":\"overlay\",\"size\":10,\"solidity\":0.2},\"type\":\"scatter\"}],\"parcoords\":[{\"type\":\"parcoords\",\"line\":{\"colorbar\":{\"outlinewidth\":0,\"ticks\":\"\"}}}],\"scatterpolargl\":[{\"type\":\"scatterpolargl\",\"marker\":{\"colorbar\":{\"outlinewidth\":0,\"ticks\":\"\"}}}],\"bar\":[{\"error_x\":{\"color\":\"#2a3f5f\"},\"error_y\":{\"color\":\"#2a3f5f\"},\"marker\":{\"line\":{\"color\":\"#E5ECF6\",\"width\":0.5},\"pattern\":{\"fillmode\":\"overlay\",\"size\":10,\"solidity\":0.2}},\"type\":\"bar\"}],\"scattergeo\":[{\"type\":\"scattergeo\",\"marker\":{\"colorbar\":{\"outlinewidth\":0,\"ticks\":\"\"}}}],\"scatterpolar\":[{\"type\":\"scatterpolar\",\"marker\":{\"colorbar\":{\"outlinewidth\":0,\"ticks\":\"\"}}}],\"histogram\":[{\"marker\":{\"pattern\":{\"fillmode\":\"overlay\",\"size\":10,\"solidity\":0.2}},\"type\":\"histogram\"}],\"scattergl\":[{\"type\":\"scattergl\",\"marker\":{\"colorbar\":{\"outlinewidth\":0,\"ticks\":\"\"}}}],\"scatter3d\":[{\"type\":\"scatter3d\",\"line\":{\"colorbar\":{\"outlinewidth\":0,\"ticks\":\"\"}},\"marker\":{\"colorbar\":{\"outlinewidth\":0,\"ticks\":\"\"}}}],\"scattermapbox\":[{\"type\":\"scattermapbox\",\"marker\":{\"colorbar\":{\"outlinewidth\":0,\"ticks\":\"\"}}}],\"scatterternary\":[{\"type\":\"scatterternary\",\"marker\":{\"colorbar\":{\"outlinewidth\":0,\"ticks\":\"\"}}}],\"scattercarpet\":[{\"type\":\"scattercarpet\",\"marker\":{\"colorbar\":{\"outlinewidth\":0,\"ticks\":\"\"}}}],\"carpet\":[{\"aaxis\":{\"endlinecolor\":\"#2a3f5f\",\"gridcolor\":\"white\",\"linecolor\":\"white\",\"minorgridcolor\":\"white\",\"startlinecolor\":\"#2a3f5f\"},\"baxis\":{\"endlinecolor\":\"#2a3f5f\",\"gridcolor\":\"white\",\"linecolor\":\"white\",\"minorgridcolor\":\"white\",\"startlinecolor\":\"#2a3f5f\"},\"type\":\"carpet\"}],\"table\":[{\"cells\":{\"fill\":{\"color\":\"#EBF0F8\"},\"line\":{\"color\":\"white\"}},\"header\":{\"fill\":{\"color\":\"#C8D4E3\"},\"line\":{\"color\":\"white\"}},\"type\":\"table\"}],\"barpolar\":[{\"marker\":{\"line\":{\"color\":\"#E5ECF6\",\"width\":0.5},\"pattern\":{\"fillmode\":\"overlay\",\"size\":10,\"solidity\":0.2}},\"type\":\"barpolar\"}],\"pie\":[{\"automargin\":true,\"type\":\"pie\"}]},\"layout\":{\"autotypenumbers\":\"strict\",\"colorway\":[\"#636efa\",\"#EF553B\",\"#00cc96\",\"#ab63fa\",\"#FFA15A\",\"#19d3f3\",\"#FF6692\",\"#B6E880\",\"#FF97FF\",\"#FECB52\"],\"font\":{\"color\":\"#2a3f5f\"},\"hovermode\":\"closest\",\"hoverlabel\":{\"align\":\"left\"},\"paper_bgcolor\":\"white\",\"plot_bgcolor\":\"#E5ECF6\",\"polar\":{\"bgcolor\":\"#E5ECF6\",\"angularaxis\":{\"gridcolor\":\"white\",\"linecolor\":\"white\",\"ticks\":\"\"},\"radialaxis\":{\"gridcolor\":\"white\",\"linecolor\":\"white\",\"ticks\":\"\"}},\"ternary\":{\"bgcolor\":\"#E5ECF6\",\"aaxis\":{\"gridcolor\":\"white\",\"linecolor\":\"white\",\"ticks\":\"\"},\"baxis\":{\"gridcolor\":\"white\",\"linecolor\":\"white\",\"ticks\":\"\"},\"caxis\":{\"gridcolor\":\"white\",\"linecolor\":\"white\",\"ticks\":\"\"}},\"coloraxis\":{\"colorbar\":{\"outlinewidth\":0,\"ticks\":\"\"}},\"colorscale\":{\"sequential\":[[0.0,\"#0d0887\"],[0.1111111111111111,\"#46039f\"],[0.2222222222222222,\"#7201a8\"],[0.3333333333333333,\"#9c179e\"],[0.4444444444444444,\"#bd3786\"],[0.5555555555555556,\"#d8576b\"],[0.6666666666666666,\"#ed7953\"],[0.7777777777777778,\"#fb9f3a\"],[0.8888888888888888,\"#fdca26\"],[1.0,\"#f0f921\"]],\"sequentialminus\":[[0.0,\"#0d0887\"],[0.1111111111111111,\"#46039f\"],[0.2222222222222222,\"#7201a8\"],[0.3333333333333333,\"#9c179e\"],[0.4444444444444444,\"#bd3786\"],[0.5555555555555556,\"#d8576b\"],[0.6666666666666666,\"#ed7953\"],[0.7777777777777778,\"#fb9f3a\"],[0.8888888888888888,\"#fdca26\"],[1.0,\"#f0f921\"]],\"diverging\":[[0,\"#8e0152\"],[0.1,\"#c51b7d\"],[0.2,\"#de77ae\"],[0.3,\"#f1b6da\"],[0.4,\"#fde0ef\"],[0.5,\"#f7f7f7\"],[0.6,\"#e6f5d0\"],[0.7,\"#b8e186\"],[0.8,\"#7fbc41\"],[0.9,\"#4d9221\"],[1,\"#276419\"]]},\"xaxis\":{\"gridcolor\":\"white\",\"linecolor\":\"white\",\"ticks\":\"\",\"title\":{\"standoff\":15},\"zerolinecolor\":\"white\",\"automargin\":true,\"zerolinewidth\":2},\"yaxis\":{\"gridcolor\":\"white\",\"linecolor\":\"white\",\"ticks\":\"\",\"title\":{\"standoff\":15},\"zerolinecolor\":\"white\",\"automargin\":true,\"zerolinewidth\":2},\"scene\":{\"xaxis\":{\"backgroundcolor\":\"#E5ECF6\",\"gridcolor\":\"white\",\"linecolor\":\"white\",\"showbackground\":true,\"ticks\":\"\",\"zerolinecolor\":\"white\",\"gridwidth\":2},\"yaxis\":{\"backgroundcolor\":\"#E5ECF6\",\"gridcolor\":\"white\",\"linecolor\":\"white\",\"showbackground\":true,\"ticks\":\"\",\"zerolinecolor\":\"white\",\"gridwidth\":2},\"zaxis\":{\"backgroundcolor\":\"#E5ECF6\",\"gridcolor\":\"white\",\"linecolor\":\"white\",\"showbackground\":true,\"ticks\":\"\",\"zerolinecolor\":\"white\",\"gridwidth\":2}},\"shapedefaults\":{\"line\":{\"color\":\"#2a3f5f\"}},\"annotationdefaults\":{\"arrowcolor\":\"#2a3f5f\",\"arrowhead\":0,\"arrowwidth\":1},\"geo\":{\"bgcolor\":\"white\",\"landcolor\":\"#E5ECF6\",\"subunitcolor\":\"white\",\"showland\":true,\"showlakes\":true,\"lakecolor\":\"white\"},\"title\":{\"x\":0.05},\"mapbox\":{\"style\":\"light\"}}},\"legend\":{\"tracegroupgap\":0},\"title\":{\"text\":\"Top 10 Popular Countries\"}},                        {\"responsive\": true}                    ).then(function(){\n",
              "                            \n",
              "var gd = document.getElementById('00a8637b-9d78-4f7b-97a1-791c94492b69');\n",
              "var x = new MutationObserver(function (mutations, observer) {{\n",
              "        var display = window.getComputedStyle(gd).display;\n",
              "        if (!display || display === 'none') {{\n",
              "            console.log([gd, 'removed!']);\n",
              "            Plotly.purge(gd);\n",
              "            observer.disconnect();\n",
              "        }}\n",
              "}});\n",
              "\n",
              "// Listen for the removal of the full notebook cells\n",
              "var notebookContainer = gd.closest('#notebook-container');\n",
              "if (notebookContainer) {{\n",
              "    x.observe(notebookContainer, {childList: true});\n",
              "}}\n",
              "\n",
              "// Listen for the clearing of the current output cell\n",
              "var outputEl = gd.closest('.output');\n",
              "if (outputEl) {{\n",
              "    x.observe(outputEl, {childList: true});\n",
              "}}\n",
              "\n",
              "                        })                };                            </script>        </div>\n",
              "</body>\n",
              "</html>"
            ]
          },
          "metadata": {}
        }
      ]
    },
    {
      "cell_type": "markdown",
      "source": [
        "##### 1. Why did I pick the specific chart?"
      ],
      "metadata": {
        "id": "2JXBW-mcnTeA"
      }
    },
    {
      "cell_type": "markdown",
      "source": [
        "Answer -\n",
        "\n",
        "I picked a treemap chart because it clearly shows which countries have the most or least content in a single glance using size comparison."
      ],
      "metadata": {
        "id": "4utj9ILYnTkI"
      }
    },
    {
      "cell_type": "markdown",
      "source": [
        "##### 2. What are the insights found from the chart?"
      ],
      "metadata": {
        "id": "05FD02zinTqe"
      }
    },
    {
      "cell_type": "markdown",
      "source": [
        "Answer -\n",
        "\n",
        "US has the highest amount of content on Amazon Prime Video.\n",
        "\n",
        "Other countries with a good amount of content include India (IN) and UK (GB).\n",
        "\n",
        "Countries like China (CN), Australia (AU), and Germany (DE) have much less content"
      ],
      "metadata": {
        "id": "1-3E--Q2nTx9"
      }
    },
    {
      "cell_type": "markdown",
      "source": [
        "##### 3. Will the gained insights help creating a positive business impact?\n",
        "Are there any insights that lead to negative growth? Justify with specific reason."
      ],
      "metadata": {
        "id": "8wdJkVa0nUAw"
      }
    },
    {
      "cell_type": "markdown",
      "source": [
        "Answer -\n",
        "\n",
        "Add more shows in countries with fewer options to improve user experience.\n",
        "\n",
        "Use high-content countries as a guide to create a better balance worldwide.\n",
        "\n",
        "#####Negative Impact\n",
        "\n",
        "Countries with low content availability may have less user engagement or slower subscription growth.\n",
        "\n",
        "People in those regions might switch to other platforms with better options."
      ],
      "metadata": {
        "id": "TXPUXe1-npaB"
      }
    },
    {
      "cell_type": "markdown",
      "source": [
        "#### Chart - 3 Univariate Analysis"
      ],
      "metadata": {
        "id": "YbQaRg76BVcd"
      }
    },
    {
      "cell_type": "markdown",
      "source": [
        "####Number of Titles Released on Prime Video Over the Years"
      ],
      "metadata": {
        "id": "jgpNyeKTBUUs"
      }
    },
    {
      "cell_type": "code",
      "source": [
        "# Aggregate data: Count number of titles per year\n",
        "titles_per_year = merged_df['release_year'].value_counts().sort_index()\n",
        "\n",
        "# Create the line plot\n",
        "plt.figure(figsize=(10,5))\n",
        "sns.lineplot(x=titles_per_year.index, y=titles_per_year.values, color='skyblue')\n",
        "\n",
        "# Labels and title\n",
        "plt.title('Number of Titles Released Over the Years')\n",
        "plt.xlabel('Release Year')\n",
        "plt.ylabel('Number of Titles')\n",
        "plt.grid(True)  # Add grid for better readability\n",
        "plt.show()"
      ],
      "metadata": {
        "id": "0z5q4msSjhzz",
        "colab": {
          "base_uri": "https://localhost:8080/",
          "height": 487
        },
        "outputId": "63a04cc6-23e5-44e0-96e3-c18c7034b5b6"
      },
      "execution_count": null,
      "outputs": [
        {
          "output_type": "display_data",
          "data": {
            "text/plain": [
              "<Figure size 1000x500 with 1 Axes>"
            ],
            "image/png": "[encoded data removed]"
          },
          "metadata": {}
        }
      ]
    },
    {
      "cell_type": "markdown",
      "source": [
        "##### 1. Why did I pick the specific chart?"
      ],
      "metadata": {
        "id": "SDot63_wnvaB"
      }
    },
    {
      "cell_type": "markdown",
      "source": [
        "Answer -\n",
        "\n",
        "I picked a line chart because it’s the best way to show trends over time. It helps us see how the number of titles has changed year by year."
      ],
      "metadata": {
        "id": "zmsMWFepnvgr"
      }
    },
    {
      "cell_type": "markdown",
      "source": [
        "##### 2. What are the insights found from the chart?"
      ],
      "metadata": {
        "id": "4xQ1Mc62nvn3"
      }
    },
    {
      "cell_type": "markdown",
      "source": [
        "Answer -\n",
        "\n",
        "Content release was low and steady until around 2000.\n",
        "\n",
        "After that, there was a big increase, especially between 2010 and 2020.\n",
        "\n",
        "There's a sharp drop after 2020, which might be due to the COVID-19 pandemic affecting production."
      ],
      "metadata": {
        "id": "Vbe-Ecgmnvuh"
      }
    },
    {
      "cell_type": "markdown",
      "source": [
        "##### 3. Will the gained insights help creating a positive business impact?\n",
        "Are there any insights that lead to negative growth? Justify with specific reason."
      ],
      "metadata": {
        "id": "EP7R7NN9nv1j"
      }
    },
    {
      "cell_type": "markdown",
      "source": [
        "Answer -\n",
        "\n",
        "Yes!\n",
        "\n",
        "The sharp rise shows that Amazon is investing more in content, which is great for growth.\n",
        "\n",
        "These trends can help plan future content strategies.\n",
        "\n",
        "#####Negative Impact\n",
        "\n",
        "Yes, possibly—since around 2020, there’s been less new content, so adding more could help Amazon stay competitive."
      ],
      "metadata": {
        "id": "MUxYRRh9nwHE"
      }
    },
    {
      "cell_type": "markdown",
      "source": [
        "#### Chart - 4 Bivariate Analysis"
      ],
      "metadata": {
        "id": "Vi1FE4a-A4w7"
      }
    },
    {
      "cell_type": "markdown",
      "source": [
        "###IMDb Ratings & Popularity"
      ],
      "metadata": {
        "id": "RO-_akHLAFU5"
      }
    },
    {
      "cell_type": "code",
      "source": [
        "# Create a figure with two subplots\n",
        "plt.figure(figsize=(12,5))\n",
        "\n",
        "# Box plot for movies\n",
        "plt.subplot(1,2,1)\n",
        "sns.boxplot(x=merged_df[merged_df['type'] == 'MOVIE']['imdb_score'], color='orange')\n",
        "plt.title(\"IMDb Score Distribution for Movies\")\n",
        "\n",
        "# Box plot for shows\n",
        "plt.subplot(1,2,2)\n",
        "sns.boxplot(x=merged_df[merged_df['type'] == 'SHOW']['imdb_score'], color='green')\n",
        "plt.title(\"IMDb Score Distribution for Shows\")\n",
        "\n",
        "plt.show()"
      ],
      "metadata": {
        "id": "Wmh95zLojh3O",
        "colab": {
          "base_uri": "https://localhost:8080/",
          "height": 487
        },
        "outputId": "4b45a94c-f6d6-46ec-a839-7f886051e033"
      },
      "execution_count": null,
      "outputs": [
        {
          "output_type": "display_data",
          "data": {
            "text/plain": [
              "<Figure size 1200x500 with 2 Axes>"
            ],
            "image/png": "[encoded data removed]"
          },
          "metadata": {}
        }
      ]
    },
    {
      "cell_type": "markdown",
      "source": [
        "##### 1. Why did I pick the specific chart?"
      ],
      "metadata": {
        "id": "xX0plMp8ofuA"
      }
    },
    {
      "cell_type": "markdown",
      "source": [
        "Answer -\n",
        "\n",
        "I picked a boxplot because it is easy to see how IMDb scores compare between movies and shows, showing the overall range and trends."
      ],
      "metadata": {
        "id": "a6kwhOQCof1v"
      }
    },
    {
      "cell_type": "markdown",
      "source": [
        "##### 2. What are the insights found from the chart?"
      ],
      "metadata": {
        "id": "WNWaCDc9of9Q"
      }
    },
    {
      "cell_type": "markdown",
      "source": [
        "Answer -\n",
        "\n",
        "TV shows tend to have better ratings—their median IMDb score is around 7, while movies are closer to 6.\n",
        "\n",
        "Movies have more bad ratings, with a wider range and more outliers, meaning there are more disappointing titles."
      ],
      "metadata": {
        "id": "0y24x9j5ogEU"
      }
    },
    {
      "cell_type": "markdown",
      "source": [
        "##### 3. Will the gained insights help creating a positive business impact?\n",
        "Are there any insights that lead to negative growth? Justify with specific reason."
      ],
      "metadata": {
        "id": "mK5QN5JsogPE"
      }
    },
    {
      "cell_type": "markdown",
      "source": [
        "Answer -\n",
        "\n",
        "Since shows get higher ratings, Amazon could focus more on producing and promoting TV content.\n",
        "\n",
        "Improving movie selection could reduce low-rated titles, making Prime Video more appealing.\n",
        "\n",
        "#####Negative Impact\n",
        "\n",
        "Too many low-rated movies might push viewers away, leading to less engagement. Amazon may need to step up movie quality to keep users interested."
      ],
      "metadata": {
        "id": "H5E07J4kogaI"
      }
    },
    {
      "cell_type": "markdown",
      "source": [
        "#### Chart - 5 Bivariate Analysis"
      ],
      "metadata": {
        "id": "cbQkoqkJBKIo"
      }
    },
    {
      "cell_type": "markdown",
      "source": [
        "####Content Availability Across Regions\n",
        "\n",
        "#####Top 10 Unique Shows by IMDb Score"
      ],
      "metadata": {
        "id": "qzUKnY3LF_LX"
      }
    },
    {
      "cell_type": "code",
      "source": [
        "# Filter for 'SHOW' type and sort by IMDb score on the non-exploded DataFrame\n",
        "top_unique_shows_by_imdb = merged_df[merged_df['type'] == 'SHOW'].drop_duplicates(subset=['id']).sort_values(by='imdb_score', ascending=False).head(10)\n",
        "\n",
        "plt.figure(figsize=(10, 4))\n",
        "sns.barplot(x='imdb_score', y='title', data=top_unique_shows_by_imdb, palette=\"Set1\", hue='title', legend=False)\n",
        "plt.title('Top 10 Unique Shows by IMDb Score')\n",
        "plt.xlabel('IMDb Score')\n",
        "plt.ylabel('Show Title')\n",
        "plt.show()"
      ],
      "metadata": {
        "colab": {
          "base_uri": "https://localhost:8080/",
          "height": 410
        },
        "id": "yUAAgsxtyjsa",
        "outputId": "e6ebf104-b37a-4bf3-b999-26dc90ea2a9a"
      },
      "execution_count": null,
      "outputs": [
        {
          "output_type": "display_data",
          "data": {
            "text/plain": [
              "<Figure size 1000x400 with 1 Axes>"
            ],
            "image/png": "[encoded data removed]"
          },
          "metadata": {}
        }
      ]
    },
    {
      "cell_type": "markdown",
      "source": [
        "##### 1. Why did I pick the specific chart?"
      ],
      "metadata": {
        "id": "xFkFULL0ouAX"
      }
    },
    {
      "cell_type": "markdown",
      "source": [
        "Answer -\n",
        "\n",
        "I picked a horizontal bar chart because It’s a simple, clear bar chart that quickly shows which shows are the highest-rated and how they compare."
      ],
      "metadata": {
        "id": "n1OPVs7WouIc"
      }
    },
    {
      "cell_type": "markdown",
      "source": [
        "##### 2. What are the insights found from the chart?"
      ],
      "metadata": {
        "id": "FxAJ6W70ouRB"
      }
    },
    {
      "cell_type": "markdown",
      "source": [
        "Answer -\n",
        "\n",
        "Water Helps the Blood Run\" is the clear winner, almost a perfect 10.\n",
        "\n",
        "The whole top 10 is incredibly strong, with scores mostly above 9, and even the last one is still very high.\n",
        "\n",
        "This list shows a real sweet spot for quality content."
      ],
      "metadata": {
        "id": "CHBTmt-sKH3z"
      }
    },
    {
      "cell_type": "markdown",
      "source": [
        "##### 3. Will the gained insights help creating a positive business impact?\n",
        "Are there any insights that lead to negative growth? Justify with specific reason."
      ],
      "metadata": {
        "id": "TFP18Qr-o_Wm"
      }
    },
    {
      "cell_type": "markdown",
      "source": [
        "Answer -\n",
        "\n",
        "Yes.\n",
        "\n",
        "Popular, high-rated shows reveal what audiences love. Amazon should focus on acquiring or producing similar content to attract and retain subscribers.\n",
        "\n",
        "High IMDb scores are a huge advantage—highlighting these ratings can draw in new viewers and boost engagement.\n",
        "\n",
        "#####Negative Impact\n",
        "\n",
        "No negative point because it only highlights the best-rated shows, so there’s nothing pointing to a decline. We’d need data on poorly rated content or dropping scores to spot negative growth."
      ],
      "metadata": {
        "id": "kwYW0JjPKn8M"
      }
    },
    {
      "cell_type": "markdown",
      "source": [
        "#### Chart - 6 Bivariate Analysis"
      ],
      "metadata": {
        "id": "fy0WcX8aBQWa"
      }
    },
    {
      "cell_type": "markdown",
      "source": [
        "####Top 10 Rated Unique Movies by IMDb Score."
      ],
      "metadata": {
        "id": "_ogrbWWvMjoy"
      }
    },
    {
      "cell_type": "code",
      "source": [
        "# Filter for 'MOVIE' type and sort by IMDb score on the non-exploded DataFrame\n",
        "top_unique_movies_by_imdb = merged_df[merged_df['type'] == 'MOVIE'].drop_duplicates(subset=['id']).sort_values(by='imdb_score', ascending=False).head(10)\n",
        "\n",
        "plt.figure(figsize=(10, 4))\n",
        "sns.barplot(x='imdb_score', y='title', data=top_unique_movies_by_imdb, palette=\"Set1\", hue='title', legend=False)\n",
        "plt.title('Top 10 Unique Movies by IMDb Score')\n",
        "plt.xlabel('IMDb Score')\n",
        "plt.ylabel('Movie Title')\n",
        "plt.show()\n"
      ],
      "metadata": {
        "colab": {
          "base_uri": "https://localhost:8080/",
          "height": 410
        },
        "id": "TDYLhvFl8X_n",
        "outputId": "2aa0967f-b7eb-4a87-a76d-190e928a839b"
      },
      "execution_count": null,
      "outputs": [
        {
          "output_type": "display_data",
          "data": {
            "text/plain": [
              "<Figure size 1000x400 with 1 Axes>"
            ],
            "image/png": "[encoded data removed]"
          },
          "metadata": {}
        }
      ]
    },
    {
      "cell_type": "markdown",
      "source": [
        "##### 1. Why did I pick the specific chart?"
      ],
      "metadata": {
        "id": "VhLKp5YopFN0"
      }
    },
    {
      "cell_type": "markdown",
      "source": [
        "Answer -\n",
        "\n",
        "I picked a horizontal bar chart because It’s a simple, clear bar chart that quickly shows which shows are the highest-rated and how they compare."
      ],
      "metadata": {
        "id": "wBiUe4OnPbqQ"
      }
    },
    {
      "cell_type": "markdown",
      "source": [
        "##### 2. What are the insights found from the chart?"
      ],
      "metadata": {
        "id": "RnqK9antpFU2"
      }
    },
    {
      "cell_type": "markdown",
      "source": [
        "Answer -\n",
        "\n",
        "\"Pawankhind\" leads the pack with an impressive IMDb score just shy of 10.\n",
        "\n",
        "All the movies here are highly rated, with most scoring above 9.\n",
        "\n",
        "There's a solid variety, showing different genres are performing well.\n",
        "\n",
        "The top 10 movies maintain consistently high quality—no major drops in ratings."
      ],
      "metadata": {
        "id": "OTb7bVM3P3HH"
      }
    },
    {
      "cell_type": "markdown",
      "source": [
        "##### 3. Will the gained insights help creating a positive business impact?\n",
        "Are there any insights that lead to negative growth? Justify with specific reason."
      ],
      "metadata": {
        "id": "0r_SyZ6WpFf9"
      }
    },
    {
      "cell_type": "markdown",
      "source": [
        "Answer -\n",
        "\n",
        "Focus on movies like Pawankhind and Jai Bhim—people love them.\n",
        "\n",
        "High ratings make movies more appealing—promoting them can attract viewers and increase engagement.\n",
        "\n",
        "Knowing what works helps pick the right content to keep viewers happy.\n",
        "\n",
        "#####Negative Impact\n",
        "\n",
        "No negative point because it only highlights the best-rated shows, so there’s nothing pointing to a decline. We’d need data on poorly rated content or dropping scores to spot negative growth"
      ],
      "metadata": {
        "id": "vJD2fYd-QdOW"
      }
    },
    {
      "cell_type": "markdown",
      "source": [
        "#### Chart - 7 Univariate Analysis"
      ],
      "metadata": {
        "id": "s8OekMIvhdgi"
      }
    },
    {
      "cell_type": "markdown",
      "source": [
        "####Top 10 Directors by Number of Titles"
      ],
      "metadata": {
        "id": "5oCn2MNrYTEO"
      }
    },
    {
      "cell_type": "code",
      "source": [
        "# Filter for the role 'Director'\n",
        "directors_df = merged_df[merged_df['role'] == 'DIRECTOR']\n",
        "\n",
        "# Count the number of titles for each director\n",
        "director_counts = directors_df['name'].value_counts().head(10).reset_index()\n",
        "director_counts.columns = ['director_name', 'title_count']\n",
        "\n",
        "# Print the top 10 directors\n",
        "print(\"Top 10 Directors by Number of Titles:\")\n",
        "print(director_counts)\n",
        "\n",
        "sns.barplot(x='title_count', y='director_name', data=director_counts, palette=\"Set1\", hue='title_count', legend=False)\n",
        "plt.title('Top 10 Directors by Number of Titles')\n",
        "plt.xlabel('Number of Titles')"
      ],
      "metadata": {
        "colab": {
          "base_uri": "https://localhost:8080/",
          "height": 698
        },
        "id": "HQiKsDQw8YGh",
        "outputId": "ec5fb633-d774-417a-ef91-faaabca72ea5"
      },
      "execution_count": null,
      "outputs": [
        {
          "output_type": "stream",
          "name": "stdout",
          "text": [
            "Top 10 Directors by Number of Titles:\n",
            "       director_name  title_count\n",
            "0         Ali Kazimi            9\n",
            "1       Brett Harvey            8\n",
            "2     Davina Bristow            8\n",
            "3             Hao Wu            6\n",
            "4         Scott Haze            6\n",
            "5    Suzie Templeton            6\n",
            "6     Frida Barkfors            6\n",
            "7     Tamara Perkins            5\n",
            "8  Dmitry Bogolyubov            5\n",
            "9     Seth Breedlove            5\n"
          ]
        },
        {
          "output_type": "execute_result",
          "data": {
            "text/plain": [
              "Text(0.5, 0, 'Number of Titles')"
            ]
          },
          "metadata": {},
          "execution_count": 36
        },
        {
          "output_type": "display_data",
          "data": {
            "text/plain": [
              "<Figure size 640x480 with 1 Axes>"
            ],
            "image/png": "[encoded data removed]"
          },
          "metadata": {}
        }
      ]
    },
    {
      "cell_type": "markdown",
      "source": [
        "##### 1. Why did I pick the specific chart?"
      ],
      "metadata": {
        "id": "XmrbsShQpVqd"
      }
    },
    {
      "cell_type": "markdown",
      "source": [
        "Answer -\n",
        "\n",
        "I picked a clean bar chart that quickly shows which directors have the most projects, making comparisons easy."
      ],
      "metadata": {
        "id": "x4ggjGs5USJU"
      }
    },
    {
      "cell_type": "markdown",
      "source": [
        "##### 2. What are the insights found from the chart?"
      ],
      "metadata": {
        "id": "9hZiJyCEpVxj"
      }
    },
    {
      "cell_type": "markdown",
      "source": [
        "Answer -\n",
        "\n",
        "Ali Kazimi leads with the most titles.\n",
        "\n",
        "The top two directors have significantly more projects than the rest.\n",
        "\n",
        "Several directors are tied, clustering around six titles."
      ],
      "metadata": {
        "id": "953UGcf0UZvz"
      }
    },
    {
      "cell_type": "markdown",
      "source": [
        "##### 3. Will the gained insights help creating a positive business impact?\n",
        "Are there any insights that lead to negative growth? Justify with specific reason."
      ],
      "metadata": {
        "id": "o_z3p4VjpV5D"
      }
    },
    {
      "cell_type": "markdown",
      "source": [
        "Answer -\n",
        "\n",
        "Amazon Prime benefits by working with experienced directors who consistently create high-quality content.\n",
        "\n",
        "This leads to popular movies and shows, keeps new releases steady, and ensures variety across different genres to appeal to a global audience.\n",
        "\n",
        "More engaging content means happier viewers and more subscribers, boosting business growth.\n",
        "\n",
        "#####Negative Impact\n",
        "\n",
        "No, this chart only shows the number of titles, not their quality, success, budget, or trends. It highlights top directors but doesn’t reveal any signs of negative growth."
      ],
      "metadata": {
        "id": "uehwZD3yUjB_"
      }
    },
    {
      "cell_type": "markdown",
      "source": [
        "#### Chart - 8 Univariate Analysis\n",
        ""
      ],
      "metadata": {
        "id": "YwOVBcv-qLXz"
      }
    },
    {
      "cell_type": "markdown",
      "source": [
        "####Top 10 Actors by Number of Titles"
      ],
      "metadata": {
        "id": "ZVMPvtGuYea5"
      }
    },
    {
      "cell_type": "code",
      "source": [
        "# Filter for the role 'Director'\n",
        "actors_df = merged_df[merged_df['role'] == 'ACTOR']\n",
        "\n",
        "# Count the number of titles for each director\n",
        "actor_counts = actors_df['name'].value_counts().head(10).reset_index()\n",
        "actor_counts.columns = ['Actor_name', 'title_count']\n",
        "\n",
        "# Print the top 10 directors\n",
        "print(\"Top 10 Actors:\")\n",
        "print(actor_counts)\n",
        "\n",
        "sns.barplot(x='title_count', y='Actor_name', data=actor_counts, palette=\"Set1\", hue='title_count', legend=False)\n",
        "plt.title('Top 10 Actors by Number of Titles')\n",
        "plt.xlabel('Number of Titles')"
      ],
      "metadata": {
        "colab": {
          "base_uri": "https://localhost:8080/",
          "height": 698
        },
        "id": "CSi4p5j88YKJ",
        "outputId": "78625cf0-f5bc-4308-ca92-4f4386acf3f9"
      },
      "execution_count": null,
      "outputs": [
        {
          "output_type": "stream",
          "name": "stdout",
          "text": [
            "Top 10 Actors:\n",
            "         Actor_name  title_count\n",
            "0        Roy Rogers          147\n",
            "1        Gene Autry          105\n",
            "2        John Wayne           92\n",
            "3      William Boyd           49\n",
            "4      Branko Đurić           42\n",
            "5    Shah Rukh Khan           41\n",
            "6     Vincent Price           40\n",
            "7     Buster Crabbe           39\n",
            "8  Amitabh Bachchan           39\n",
            "9            Jet Li           38\n"
          ]
        },
        {
          "output_type": "execute_result",
          "data": {
            "text/plain": [
              "Text(0.5, 0, 'Number of Titles')"
            ]
          },
          "metadata": {},
          "execution_count": 37
        },
        {
          "output_type": "display_data",
          "data": {
            "text/plain": [
              "<Figure size 640x480 with 1 Axes>"
            ],
            "image/png": "[encoded data removed]"
          },
          "metadata": {}
        }
      ]
    },
    {
      "cell_type": "markdown",
      "source": [
        "##### 1. Why did I pick the specific chart?"
      ],
      "metadata": {
        "id": "8G5Sp8VuqNq3"
      }
    },
    {
      "cell_type": "markdown",
      "source": [
        "Answer -\n",
        "\n",
        " I picked a clear bar chart, perfect for quickly comparing how many movies each actor has done. We can instantly see who's worked the most."
      ],
      "metadata": {
        "id": "mliPvosbZNWt"
      }
    },
    {
      "cell_type": "markdown",
      "source": [
        "##### 2. What are the insights found from the chart?\n"
      ],
      "metadata": {
        "id": "L5gqk96hqNxl"
      }
    },
    {
      "cell_type": "markdown",
      "source": [
        "Answer -\n",
        "\n",
        "Roy Rogers leads with the most titles, followed by Gene Autry.\n",
        "\n",
        "There's a sharp drop after the top two, while the rest hover around 40-50 titles."
      ],
      "metadata": {
        "id": "aYRsZNtkZbLc"
      }
    },
    {
      "cell_type": "markdown",
      "source": [
        "##### 3. Will the gained insights help creating a positive business impact?\n",
        "Are there any insights that lead to negative growth? Justify with specific reason."
      ],
      "metadata": {
        "id": "VQatpNE7qN35"
      }
    },
    {
      "cell_type": "markdown",
      "source": [
        "Answer -\n",
        "\n",
        "Amazon Prime can use this info to cast experienced actors for new projects, ensuring quality and reliability.\n",
        "\n",
        "It also helps in reviving classic movies, making them more accessible to today’s audiences.\n",
        "\n",
        "#####Negative Impact\n",
        "\n",
        "No negative growth insights here. This chart only shows how many movies each actor has, not their success, audience reception, or trends over time."
      ],
      "metadata": {
        "id": "bgrnPR59Z1hi"
      }
    },
    {
      "cell_type": "markdown",
      "source": [
        "#### Chart - 9 Univariate Analysis"
      ],
      "metadata": {
        "id": "Bt1hCG0ihjKs"
      }
    },
    {
      "cell_type": "markdown",
      "source": [
        "####Content Overview Analysis"
      ],
      "metadata": {
        "id": "pKofCZh5avdF"
      }
    },
    {
      "cell_type": "code",
      "source": [
        "# Count occurrences of Movies vs. TV Shows\n",
        "type_counts = merged_df['type'].value_counts()\n",
        "\n",
        "print(type_counts)\n",
        "\n",
        "# Create pie chart\n",
        "plt.figure(figsize=(6,6))\n",
        "plt.pie(type_counts, labels=type_counts.index, autopct='%1.1f%%', colors=['blue', 'red'], startangle=90)\n",
        "\n",
        "# Add title\n",
        "plt.title(\"Proportion of Movies vs. Shows\")\n",
        "\n",
        "# Show the plot\n",
        "plt.show()"
      ],
      "metadata": {
        "colab": {
          "base_uri": "https://localhost:8080/",
          "height": 590
        },
        "id": "CgtKla6wHETb",
        "outputId": "b0f4a0e9-1cee-473e-83df-34e2a073cd21"
      },
      "execution_count": null,
      "outputs": [
        {
          "output_type": "stream",
          "name": "stdout",
          "text": [
            "type\n",
            "MOVIE    22317\n",
            "SHOW      3502\n",
            "Name: count, dtype: int64\n"
          ]
        },
        {
          "output_type": "display_data",
          "data": {
            "text/plain": [
              "<Figure size 600x600 with 1 Axes>"
            ],
            "image/png": "[encoded data removed]"
          },
          "metadata": {}
        }
      ]
    },
    {
      "cell_type": "markdown",
      "source": [
        "##### 1. Why did I pick the specific chart?"
      ],
      "metadata": {
        "id": "X-1OPZUlql7R"
      }
    },
    {
      "cell_type": "markdown",
      "source": [
        "Answer -\n",
        "\n",
        "I picked a pie chart beacuse it clearly shows how two parts (movies and shows) make up a whole, making it super easy to see the distribution at a glance."
      ],
      "metadata": {
        "id": "LQL4xAt5bSNd"
      }
    },
    {
      "cell_type": "markdown",
      "source": [
        "##### 2. What are the insights found from the chart?"
      ],
      "metadata": {
        "id": "S4uslan_qmFd"
      }
    },
    {
      "cell_type": "markdown",
      "source": [
        "Answer -\n",
        "\n",
        "Movies dominate the content, making up a massive 86.4%.\n",
        "\n",
        "Shows are a small portion, accounting for only 13.6% of the total content.\n",
        "\n",
        "There's a significant imbalance, with movies being nearly 6.5 times more prevalent than shows."
      ],
      "metadata": {
        "id": "UEOPZTAHbp4q"
      }
    },
    {
      "cell_type": "markdown",
      "source": [
        "##### 3. Will the gained insights help creating a positive business impact?\n",
        "Are there any insights that lead to negative growth? Justify with specific reason."
      ],
      "metadata": {
        "id": "WDQ8TuxJqmdT"
      }
    },
    {
      "cell_type": "markdown",
      "source": [
        "Answer -\n",
        "\n",
        "It shows where your strength is, so you can market better to movie lovers.\n",
        "\n",
        "It helps plan spending based on what’s working, so you can invest wisely.\n",
        "\n",
        "#####Negative Impact\n",
        "\n",
        "Yes, it could be a problem depending on the strategy.\n",
        "\n",
        "Too few shows might mean losing subscribers who prefer binge-worthy series.\n",
        "\n",
        "Focusing mostly on movies could make the platform less appealing to a wider audience.\n",
        "\n",
        "Other streaming services with strong TV show lineups might attract more long-term viewers."
      ],
      "metadata": {
        "id": "kkbYiQWrbzi9"
      }
    },
    {
      "cell_type": "markdown",
      "source": [
        "#### Chart - 10 Bivariate Analysis"
      ],
      "metadata": {
        "id": "LZEfyIDzhphz"
      }
    },
    {
      "cell_type": "markdown",
      "source": [
        "####Distribution of Watch Time for Movies vs. Shows."
      ],
      "metadata": {
        "id": "4Ms2CR-9fS0N"
      }
    },
    {
      "cell_type": "code",
      "source": [
        "# Filter data\n",
        "movies_df = merged_df[merged_df['type'] == 'MOVIE']\n",
        "shows_df = merged_df[merged_df['type'] == 'SHOW']\n",
        "\n",
        "plt.figure(figsize=(10,5))\n",
        "\n",
        "# Plot distributions\n",
        "sns.histplot(movies_df['runtime'], kde=True, color='blue', label='Movies', bins=30)\n",
        "sns.histplot(shows_df['runtime'], kde=True, color='red', label='Shows', bins=30)\n",
        "\n",
        "plt.title(\"Distribution of Watch Time for Movies vs. Shows\")\n",
        "plt.xlabel(\"Watch Time (minutes)\")\n",
        "plt.ylabel(\"Frequency\")\n",
        "plt.legend()\n",
        "plt.show()"
      ],
      "metadata": {
        "colab": {
          "base_uri": "https://localhost:8080/",
          "height": 487
        },
        "id": "lSbXGXTCHEpM",
        "outputId": "c6c47506-fa02-4cd9-979e-f0f30632594c"
      },
      "execution_count": null,
      "outputs": [
        {
          "output_type": "display_data",
          "data": {
            "text/plain": [
              "<Figure size 1000x500 with 1 Axes>"
            ],
            "image/png": "[encoded data removed]"
          },
          "metadata": {}
        }
      ]
    },
    {
      "cell_type": "markdown",
      "source": [
        "##### 1. Why did I pick the specific chart?"
      ],
      "metadata": {
        "id": "lSnXDjUErE_C"
      }
    },
    {
      "cell_type": "markdown",
      "source": [
        "Answer -\n",
        "\n",
        "I picked a histogram  for comparing typical viewing lengths for movies versus shows, showing distinct patterns."
      ],
      "metadata": {
        "id": "OfOUrU2dfX7e"
      }
    },
    {
      "cell_type": "markdown",
      "source": [
        "##### 2. What is/are the insight(s) found from the chart?"
      ],
      "metadata": {
        "id": "JT09p8DirFHo"
      }
    },
    {
      "cell_type": "markdown",
      "source": [
        "Answer -\n",
        "\n",
        "Movies (Blue) are typically watched for about 90-100 minutes, with some much longer options.\n",
        "\n",
        "Shows (Red) are much shorter, usually around 20-30 minutes per watch session."
      ],
      "metadata": {
        "id": "k9VGoqd2fvf4"
      }
    },
    {
      "cell_type": "markdown",
      "source": [
        "##### 3. Will the gained insights help creating a positive business impact?\n",
        "Are there any insights that lead to negative growth? Justify with specific reason."
      ],
      "metadata": {
        "id": "oZY2WgtTrFPO"
      }
    },
    {
      "cell_type": "markdown",
      "source": [
        "Answer -\n",
        "\n",
        "This data helps a streaming platform choose popular content, suggest better recommendations, and keep viewers engaged based on their watch habits.\n",
        "\n",
        "#####Negative Impact\n",
        "\n",
        "Yes, If a platform has too many long movies that few people watch or short shows that don’t keep viewers hooked, it might be wasting money on content that doesn’t boost engagement.\n",
        "\n",
        "This could lead to lower overall watch time and fewer returning users."
      ],
      "metadata": {
        "id": "OvdHEVcZf4fw"
      }
    },
    {
      "cell_type": "markdown",
      "source": [
        "#### Chart - 11 Multivariate Analysis"
      ],
      "metadata": {
        "id": "x-21n8AzhnCW"
      }
    },
    {
      "cell_type": "markdown",
      "source": [
        "####Correlation Matrix"
      ],
      "metadata": {
        "id": "xuO4bufxkEYB"
      }
    },
    {
      "cell_type": "code",
      "source": [
        "# Compute correlation matrix\n",
        "columns_of_interest = ['imdb_score', 'imdb_votes', 'tmdb_popularity', 'tmdb_score']\n",
        "correlation_matrix = merged_df[columns_of_interest].corr()\n",
        "\n",
        "# Create the heatmap\n",
        "plt.figure(figsize=(8,6))\n",
        "sns.heatmap(correlation_matrix, annot=True, cmap='coolwarm', fmt=\".2f\", linewidths=0.5)\n",
        "\n",
        "# Add title\n",
        "plt.title(\"Heatmap of Correlations Between IMDb & TMDB Metrics\")\n",
        "\n",
        "# Show plot\n",
        "plt.show()"
      ],
      "metadata": {
        "colab": {
          "base_uri": "https://localhost:8080/",
          "height": 545
        },
        "id": "HSECzHLjPcPB",
        "outputId": "e4210524-0590-4b0d-a084-5b5829aa3663"
      },
      "execution_count": null,
      "outputs": [
        {
          "output_type": "display_data",
          "data": {
            "text/plain": [
              "<Figure size 800x600 with 2 Axes>"
            ],
            "image/png": "[encoded data removed]"
          },
          "metadata": {}
        }
      ]
    },
    {
      "cell_type": "markdown",
      "source": [
        "##### 1. Why did I pick the specific chart?"
      ],
      "metadata": {
        "id": "TSx1_PHdrSGG"
      }
    },
    {
      "cell_type": "markdown",
      "source": [
        "Answer -\n",
        "\n",
        "I picked this chart because it's excellent for showing how different numerical variables relate to each other. Each square tells you how strongly two things move together (or in opposite directions)."
      ],
      "metadata": {
        "id": "WFaNbYcOiWn7"
      }
    },
    {
      "cell_type": "markdown",
      "source": [
        "##### 2. What are the insights found from the chart?\n"
      ],
      "metadata": {
        "id": "k9eIxjYzrSR0"
      }
    },
    {
      "cell_type": "markdown",
      "source": [
        "Answer -\n",
        "\n",
        "Strong Positive Correlation: \"imdb_score\" and \"imdb_score\" (obviously, a perfect match with 1.00) and \"imdb_votes\" and \"imdb_votes\" (again, a perfect match with 1.00) are perfectly correlated.\n",
        "\n",
        "Moderate Positive Correlation: \"imdb_score\" has a decent positive relationship with \"imdb_votes\" (0.56) and \"tmdb_score\" (0.56). This means as the IMDb score goes up, the number of IMDb votes and the TMDB score tend to go up as well.\n",
        "\n",
        "Weak Positive Correlation: \"tmdb_popularity\" has a very weak positive relationship with \"imdb_score\" (0.08) and \"imdb_votes\" (0.27) and \"tmdb_score\" (0.13). This suggests that a movie's popularity on TMDB doesn't strongly predict its IMDb score or number of votes, or its TMDB score.\n"
      ],
      "metadata": {
        "id": "nN7L4lATiccd"
      }
    },
    {
      "cell_type": "markdown",
      "source": [
        "##### 3. Will the gained insights help creating a positive business impact?\n",
        "Are there any insights that lead to negative growth? Justify with specific reason."
      ],
      "metadata": {
        "id": "g2debyT9rSb9"
      }
    },
    {
      "cell_type": "markdown",
      "source": [
        "Answer -\n",
        "\n",
        "High IMDb scores and votes signal well-received movies, helping with content selection.\n",
        "\n",
        "Since TMDB popularity doesn’t guarantee success elsewhere, platforms can spread investments wisely.\n",
        "\n",
        "If users enjoy top-rated IMDb movies, similar high-score films can be suggested to boost engagement.\n",
        "\n",
        "#####Negative Impact\n",
        "\n",
        "No signs of negative growth here—all correlations are positive.\n",
        "\n",
        "A negative correlation would mean one value goes up while another drops, which isn’t happening in this data."
      ],
      "metadata": {
        "id": "lQ94WbxzjQrw"
      }
    },
    {
      "cell_type": "markdown",
      "source": [
        "#### Chart - 12 Univariate Analysis"
      ],
      "metadata": {
        "id": "mrsG8LRZrjob"
      }
    },
    {
      "cell_type": "code",
      "source": [
        "\n",
        "# Remove entries with 'Unknown' or missing age certifications\n",
        "filtered_df = merged_df[(merged_df['age_certification'].notna()) & (merged_df['age_certification'] != 'Unknown')]\n",
        "\n",
        "# Count occurrences of each age certification and sort in descending order\n",
        "age_certification_counts = filtered_df['age_certification'].value_counts().sort_values()\n",
        "\n",
        "# Create the bar plot\n",
        "plt.figure(figsize=(10, 5))\n",
        "sns.barplot(x=age_certification_counts.index,y=age_certification_counts.values,hue = age_certification_counts.index, palette=\"Set1\", legend = False)\n",
        "\n",
        "# Add labels and title\n",
        "plt.title(\"Distribution of Age Certifications\")\n",
        "plt.xlabel(\"Age Certification\")\n",
        "plt.ylabel(\"Count\")\n",
        "plt.xticks(rotation=45)  # Rotate x-axis labels for better readability\n",
        "plt.show()\n"
      ],
      "metadata": {
        "colab": {
          "base_uri": "https://localhost:8080/",
          "height": 529
        },
        "id": "qThTqkViYaSg",
        "outputId": "2d8e70bb-69fa-48a0-95bf-c6052261f730"
      },
      "execution_count": null,
      "outputs": [
        {
          "output_type": "display_data",
          "data": {
            "text/plain": [
              "<Figure size 1000x500 with 1 Axes>"
            ],
            "image/png": "[encoded data removed]"
          },
          "metadata": {}
        }
      ]
    },
    {
      "cell_type": "markdown",
      "source": [
        "##### 1. Why did I pick the specific chart?"
      ],
      "metadata": {
        "id": "gfR3KcJ2rrrh"
      }
    },
    {
      "cell_type": "markdown",
      "source": [
        "Answer -\n",
        "\n",
        "I chose this chart because it clearly shows how many movies or shows belong to each age rating. The taller the bar, the more content in that category, making comparisons easy.\n",
        "\n"
      ],
      "metadata": {
        "id": "Ms6kgRocl28x"
      }
    },
    {
      "cell_type": "markdown",
      "source": [
        "##### 2. What are the insights found from the chart?\n",
        "\n"
      ],
      "metadata": {
        "id": "oNi9mOt-rsNI"
      }
    },
    {
      "cell_type": "markdown",
      "source": [
        "Answer -\n",
        "\n",
        "The 'R' rating is by far the most frequent age certification, with a count of over 4000.\n",
        "\n",
        "'PG-13' and 'PG' are the next most common categories, both with counts between 1500 and 2000.\n",
        "\n",
        "Certifications like 'G', 'TV-14', 'TV-MA', 'TV-G', 'TV-PG', 'TV-Y', and 'TV-Y7' are significantly less common compared."
      ],
      "metadata": {
        "id": "XKo5KOm8l80P"
      }
    },
    {
      "cell_type": "markdown",
      "source": [
        "##### 3. Will the gained insights help creating a positive business impact?\n",
        "Are there any insights that lead to negative growth? Justify with specific reason."
      ],
      "metadata": {
        "id": "Dofz6BLArsfr"
      }
    },
    {
      "cell_type": "markdown",
      "source": [
        "Answer -\n",
        "\n",
        "This data helps a streaming platform make smarter choices:\n",
        "\n",
        "Focus on age ratings that have the most demand.\n",
        "\n",
        "Promote movies and shows to the people most likely to watch them.\n",
        "\n",
        "Make it easier for viewers to find popular categories.\n",
        "\n",
        "Adjust ads or subscriptions based on different audience groups.\n",
        "\n",
        "It’s all about giving people what they want, where they want it, and how they want it.\n",
        "\n",
        "#####Negative Impact\n",
        "\n",
        "The data itself doesn’t show any negative impact—it just presents the distribution of age ratings. However, if a business ignores niche audiences or oversaturates a certain rating, that could affect growth."
      ],
      "metadata": {
        "id": "UYb5GitThwzf"
      }
    },
    {
      "cell_type": "markdown",
      "source": [
        "## **5. Solution to Business Objective**"
      ],
      "metadata": {
        "id": "usy7TNd_vbYo"
      }
    },
    {
      "cell_type": "markdown",
      "source": [
        "Answer -\n",
        "\n",
        "**Offer what people really want:**\n",
        "\n",
        "Example: If we find out that \"R-rated\" (for mature audiences) shows and movies are super popular, Amazon might decide to invest more in creating or acquiring adult dramas and thrillers. Or, if \"TV-Y7\" kids' content is booming, they'd get more animated series for that age group.\n",
        "\n",
        "\n",
        "**Suggest better content to YOU:**\n",
        "\n",
        "Example: If the data shows you often watch action-comedy movies, Amazon's recommendation engine will learn this. Instead of showing you a documentary, it might highlight new action-comedy films like The Fall Guy or Red Notice first, making your Browse easier and more enjoyable.\n",
        "\n",
        "**Make it easy to find stuff:**\n",
        "\n",
        "Example: If \"Sci-Fi\" is a hugely popular genre, Amazon might give it a more prominent spot on the homepage, or create dedicated \"Top Sci-Fi Picks\" lists. This means less searching for you.\n",
        "\n",
        "**Tailor promotions:**\n",
        "\n",
        "Example: If a lot of families are watching kids' content, Amazon might run a special offer on a family-friendly subscription bundle. Or, if a specific country loves romantic comedies, they might launch targeted ads for new romantic content in that region."
      ],
      "metadata": {
        "id": "oR3Bykh8vb1O"
      }
    },
    {
      "cell_type": "markdown",
      "source": [
        "# **Conclusion**"
      ],
      "metadata": {
        "id": "t29N1nFQvcIh"
      }
    },
    {
      "cell_type": "markdown",
      "source": [
        "To wrap it up, by looking closely at all the Amazon Prime TV shows and movies, we managed to pull out some really useful information. This helps folks like Amazon, and even the people who make the shows, understand what viewers like. The main takeaway is that with this data, they can make smarter choices about what content to offer, how to recommend it, and ultimately, give people more of what they want to watch."
      ],
      "metadata": {
        "id": "LoICLHVsvcdo"
      }
    }
  ]
}